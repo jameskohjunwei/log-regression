{
 "cells": [
  {
   "cell_type": "code",
   "execution_count": 1,
   "id": "fe5f1c50",
   "metadata": {
    "execution": {
     "iopub.execute_input": "2022-02-09T16:03:11.096723Z",
     "iopub.status.busy": "2022-02-09T16:03:11.096079Z",
     "iopub.status.idle": "2022-02-09T16:03:12.127795Z",
     "shell.execute_reply": "2022-02-09T16:03:12.126808Z",
     "shell.execute_reply.started": "2022-02-09T15:45:48.220658Z"
    },
    "papermill": {
     "duration": 1.110499,
     "end_time": "2022-02-09T16:03:12.128025",
     "exception": false,
     "start_time": "2022-02-09T16:03:11.017526",
     "status": "completed"
    },
    "tags": []
   },
   "outputs": [
    {
     "name": "stdout",
     "output_type": "stream",
     "text": [
      "/kaggle/input/titanic/train.csv\n",
      "/kaggle/input/titanic/test.csv\n",
      "/kaggle/input/titanic/gender_submission.csv\n"
     ]
    }
   ],
   "source": [
    "# This Python 3 environment comes with many helpful analytics libraries installed\n",
    "# It is defined by the kaggle/python Docker image: https://github.com/kaggle/docker-python\n",
    "# For example, here's several helpful packages to load\n",
    "\n",
    "import numpy as np # linear algebra\n",
    "import pandas as pd # data processing, CSV file I/O (e.g. pd.read_csv)\n",
    "import matplotlib.pyplot as plt\n",
    "import seaborn as sns\n",
    "\n",
    "# Input data files are available in the read-only \"../input/\" directory\n",
    "# For example, running this (by clicking run or pressing Shift+Enter) will list all files under the input directory\n",
    "\n",
    "import os\n",
    "for dirname, _, filenames in os.walk('/kaggle/input'):\n",
    "    for filename in filenames:\n",
    "        print(os.path.join(dirname, filename))\n",
    "\n",
    "# You can write up to 20GB to the current directory (/kaggle/working/) that gets preserved as output when you create a version using \"Save & Run All\" \n",
    "# You can also write temporary files to /kaggle/temp/, but they won't be saved outside of the current session"
   ]
  },
  {
   "cell_type": "markdown",
   "id": "6a623099",
   "metadata": {
    "papermill": {
     "duration": 0.076443,
     "end_time": "2022-02-09T16:03:12.272196",
     "exception": false,
     "start_time": "2022-02-09T16:03:12.195753",
     "status": "completed"
    },
    "tags": []
   },
   "source": [
    "## Import CSV"
   ]
  },
  {
   "cell_type": "code",
   "execution_count": 2,
   "id": "8bb9ca34",
   "metadata": {
    "execution": {
     "iopub.execute_input": "2022-02-09T16:03:12.425693Z",
     "iopub.status.busy": "2022-02-09T16:03:12.424850Z",
     "iopub.status.idle": "2022-02-09T16:03:12.458998Z",
     "shell.execute_reply": "2022-02-09T16:03:12.459609Z",
     "shell.execute_reply.started": "2022-02-09T15:45:58.447846Z"
    },
    "papermill": {
     "duration": 0.112274,
     "end_time": "2022-02-09T16:03:12.459831",
     "exception": false,
     "start_time": "2022-02-09T16:03:12.347557",
     "status": "completed"
    },
    "tags": []
   },
   "outputs": [],
   "source": [
    "train = pd.read_csv('../input/titanic/train.csv')\n",
    "test = pd.read_csv('../input/titanic/test.csv')"
   ]
  },
  {
   "cell_type": "markdown",
   "id": "e00d699e",
   "metadata": {
    "papermill": {
     "duration": 0.073262,
     "end_time": "2022-02-09T16:03:12.602851",
     "exception": false,
     "start_time": "2022-02-09T16:03:12.529589",
     "status": "completed"
    },
    "tags": []
   },
   "source": [
    "## Check out the data"
   ]
  },
  {
   "cell_type": "code",
   "execution_count": 3,
   "id": "fb1a8f7a",
   "metadata": {
    "execution": {
     "iopub.execute_input": "2022-02-09T16:03:12.746197Z",
     "iopub.status.busy": "2022-02-09T16:03:12.745171Z",
     "iopub.status.idle": "2022-02-09T16:03:12.749172Z",
     "shell.execute_reply": "2022-02-09T16:03:12.748604Z",
     "shell.execute_reply.started": "2022-02-09T15:46:01.261122Z"
    },
    "papermill": {
     "duration": 0.077066,
     "end_time": "2022-02-09T16:03:12.749310",
     "exception": false,
     "start_time": "2022-02-09T16:03:12.672244",
     "status": "completed"
    },
    "tags": []
   },
   "outputs": [
    {
     "name": "stdout",
     "output_type": "stream",
     "text": [
      "(891, 12)\n",
      "(418, 11)\n"
     ]
    }
   ],
   "source": [
    "print(train.shape)\n",
    "print(test.shape)"
   ]
  },
  {
   "cell_type": "code",
   "execution_count": 4,
   "id": "c2ead76e",
   "metadata": {
    "execution": {
     "iopub.execute_input": "2022-02-09T16:03:12.889444Z",
     "iopub.status.busy": "2022-02-09T16:03:12.888388Z",
     "iopub.status.idle": "2022-02-09T16:03:12.919502Z",
     "shell.execute_reply": "2022-02-09T16:03:12.920279Z",
     "shell.execute_reply.started": "2022-02-09T15:46:02.275742Z"
    },
    "papermill": {
     "duration": 0.102971,
     "end_time": "2022-02-09T16:03:12.920515",
     "exception": false,
     "start_time": "2022-02-09T16:03:12.817544",
     "status": "completed"
    },
    "tags": []
   },
   "outputs": [
    {
     "data": {
      "text/html": [
       "<div>\n",
       "<style scoped>\n",
       "    .dataframe tbody tr th:only-of-type {\n",
       "        vertical-align: middle;\n",
       "    }\n",
       "\n",
       "    .dataframe tbody tr th {\n",
       "        vertical-align: top;\n",
       "    }\n",
       "\n",
       "    .dataframe thead th {\n",
       "        text-align: right;\n",
       "    }\n",
       "</style>\n",
       "<table border=\"1\" class=\"dataframe\">\n",
       "  <thead>\n",
       "    <tr style=\"text-align: right;\">\n",
       "      <th></th>\n",
       "      <th>PassengerId</th>\n",
       "      <th>Survived</th>\n",
       "      <th>Pclass</th>\n",
       "      <th>Name</th>\n",
       "      <th>Sex</th>\n",
       "      <th>Age</th>\n",
       "      <th>SibSp</th>\n",
       "      <th>Parch</th>\n",
       "      <th>Ticket</th>\n",
       "      <th>Fare</th>\n",
       "      <th>Cabin</th>\n",
       "      <th>Embarked</th>\n",
       "    </tr>\n",
       "  </thead>\n",
       "  <tbody>\n",
       "    <tr>\n",
       "      <th>0</th>\n",
       "      <td>1</td>\n",
       "      <td>0</td>\n",
       "      <td>3</td>\n",
       "      <td>Braund, Mr. Owen Harris</td>\n",
       "      <td>male</td>\n",
       "      <td>22.0</td>\n",
       "      <td>1</td>\n",
       "      <td>0</td>\n",
       "      <td>A/5 21171</td>\n",
       "      <td>7.2500</td>\n",
       "      <td>NaN</td>\n",
       "      <td>S</td>\n",
       "    </tr>\n",
       "    <tr>\n",
       "      <th>1</th>\n",
       "      <td>2</td>\n",
       "      <td>1</td>\n",
       "      <td>1</td>\n",
       "      <td>Cumings, Mrs. John Bradley (Florence Briggs Th...</td>\n",
       "      <td>female</td>\n",
       "      <td>38.0</td>\n",
       "      <td>1</td>\n",
       "      <td>0</td>\n",
       "      <td>PC 17599</td>\n",
       "      <td>71.2833</td>\n",
       "      <td>C85</td>\n",
       "      <td>C</td>\n",
       "    </tr>\n",
       "    <tr>\n",
       "      <th>2</th>\n",
       "      <td>3</td>\n",
       "      <td>1</td>\n",
       "      <td>3</td>\n",
       "      <td>Heikkinen, Miss. Laina</td>\n",
       "      <td>female</td>\n",
       "      <td>26.0</td>\n",
       "      <td>0</td>\n",
       "      <td>0</td>\n",
       "      <td>STON/O2. 3101282</td>\n",
       "      <td>7.9250</td>\n",
       "      <td>NaN</td>\n",
       "      <td>S</td>\n",
       "    </tr>\n",
       "    <tr>\n",
       "      <th>3</th>\n",
       "      <td>4</td>\n",
       "      <td>1</td>\n",
       "      <td>1</td>\n",
       "      <td>Futrelle, Mrs. Jacques Heath (Lily May Peel)</td>\n",
       "      <td>female</td>\n",
       "      <td>35.0</td>\n",
       "      <td>1</td>\n",
       "      <td>0</td>\n",
       "      <td>113803</td>\n",
       "      <td>53.1000</td>\n",
       "      <td>C123</td>\n",
       "      <td>S</td>\n",
       "    </tr>\n",
       "    <tr>\n",
       "      <th>4</th>\n",
       "      <td>5</td>\n",
       "      <td>0</td>\n",
       "      <td>3</td>\n",
       "      <td>Allen, Mr. William Henry</td>\n",
       "      <td>male</td>\n",
       "      <td>35.0</td>\n",
       "      <td>0</td>\n",
       "      <td>0</td>\n",
       "      <td>373450</td>\n",
       "      <td>8.0500</td>\n",
       "      <td>NaN</td>\n",
       "      <td>S</td>\n",
       "    </tr>\n",
       "  </tbody>\n",
       "</table>\n",
       "</div>"
      ],
      "text/plain": [
       "   PassengerId  Survived  Pclass  \\\n",
       "0            1         0       3   \n",
       "1            2         1       1   \n",
       "2            3         1       3   \n",
       "3            4         1       1   \n",
       "4            5         0       3   \n",
       "\n",
       "                                                Name     Sex   Age  SibSp  \\\n",
       "0                            Braund, Mr. Owen Harris    male  22.0      1   \n",
       "1  Cumings, Mrs. John Bradley (Florence Briggs Th...  female  38.0      1   \n",
       "2                             Heikkinen, Miss. Laina  female  26.0      0   \n",
       "3       Futrelle, Mrs. Jacques Heath (Lily May Peel)  female  35.0      1   \n",
       "4                           Allen, Mr. William Henry    male  35.0      0   \n",
       "\n",
       "   Parch            Ticket     Fare Cabin Embarked  \n",
       "0      0         A/5 21171   7.2500   NaN        S  \n",
       "1      0          PC 17599  71.2833   C85        C  \n",
       "2      0  STON/O2. 3101282   7.9250   NaN        S  \n",
       "3      0            113803  53.1000  C123        S  \n",
       "4      0            373450   8.0500   NaN        S  "
      ]
     },
     "execution_count": 4,
     "metadata": {},
     "output_type": "execute_result"
    }
   ],
   "source": [
    "train.head()"
   ]
  },
  {
   "cell_type": "code",
   "execution_count": 5,
   "id": "11dc2420",
   "metadata": {
    "execution": {
     "iopub.execute_input": "2022-02-09T16:03:13.066981Z",
     "iopub.status.busy": "2022-02-09T16:03:13.066290Z",
     "iopub.status.idle": "2022-02-09T16:03:13.287653Z",
     "shell.execute_reply": "2022-02-09T16:03:13.288233Z",
     "shell.execute_reply.started": "2022-02-09T15:46:02.770742Z"
    },
    "papermill": {
     "duration": 0.29288,
     "end_time": "2022-02-09T16:03:13.288434",
     "exception": false,
     "start_time": "2022-02-09T16:03:12.995554",
     "status": "completed"
    },
    "tags": []
   },
   "outputs": [
    {
     "data": {
      "text/plain": [
       "<AxesSubplot:>"
      ]
     },
     "execution_count": 5,
     "metadata": {},
     "output_type": "execute_result"
    },
    {
     "data": {
      "image/png": "[encoded data removed]",
      "text/plain": [
       "<Figure size 432x288 with 1 Axes>"
      ]
     },
     "metadata": {
      "needs_background": "light"
     },
     "output_type": "display_data"
    }
   ],
   "source": [
    "sns.heatmap(train.isnull(), yticklabels = False, cbar = False)\n",
    "\n",
    "#we can average fill the missing fields for age. \n",
    "#but cabin seem to have too many missing information, we might need to drop the column."
   ]
  },
  {
   "cell_type": "code",
   "execution_count": 6,
   "id": "a03fb8b4",
   "metadata": {
    "execution": {
     "iopub.execute_input": "2022-02-09T16:03:13.431716Z",
     "iopub.status.busy": "2022-02-09T16:03:13.431015Z",
     "iopub.status.idle": "2022-02-09T16:03:13.450115Z",
     "shell.execute_reply": "2022-02-09T16:03:13.450650Z",
     "shell.execute_reply.started": "2022-02-09T15:46:03.309282Z"
    },
    "papermill": {
     "duration": 0.093989,
     "end_time": "2022-02-09T16:03:13.450832",
     "exception": false,
     "start_time": "2022-02-09T16:03:13.356843",
     "status": "completed"
    },
    "tags": []
   },
   "outputs": [
    {
     "name": "stdout",
     "output_type": "stream",
     "text": [
      "<class 'pandas.core.frame.DataFrame'>\n",
      "RangeIndex: 891 entries, 0 to 890\n",
      "Data columns (total 12 columns):\n",
      " #   Column       Non-Null Count  Dtype  \n",
      "---  ------       --------------  -----  \n",
      " 0   PassengerId  891 non-null    int64  \n",
      " 1   Survived     891 non-null    int64  \n",
      " 2   Pclass       891 non-null    int64  \n",
      " 3   Name         891 non-null    object \n",
      " 4   Sex          891 non-null    object \n",
      " 5   Age          714 non-null    float64\n",
      " 6   SibSp        891 non-null    int64  \n",
      " 7   Parch        891 non-null    int64  \n",
      " 8   Ticket       891 non-null    object \n",
      " 9   Fare         891 non-null    float64\n",
      " 10  Cabin        204 non-null    object \n",
      " 11  Embarked     889 non-null    object \n",
      "dtypes: float64(2), int64(5), object(5)\n",
      "memory usage: 83.7+ KB\n"
     ]
    }
   ],
   "source": [
    "train.info()"
   ]
  },
  {
   "cell_type": "code",
   "execution_count": 7,
   "id": "fe85d3a0",
   "metadata": {
    "execution": {
     "iopub.execute_input": "2022-02-09T16:03:13.590809Z",
     "iopub.status.busy": "2022-02-09T16:03:13.590106Z",
     "iopub.status.idle": "2022-02-09T16:03:13.621719Z",
     "shell.execute_reply": "2022-02-09T16:03:13.622279Z",
     "shell.execute_reply.started": "2022-02-09T15:46:03.960753Z"
    },
    "papermill": {
     "duration": 0.103499,
     "end_time": "2022-02-09T16:03:13.622453",
     "exception": false,
     "start_time": "2022-02-09T16:03:13.518954",
     "status": "completed"
    },
    "tags": []
   },
   "outputs": [
    {
     "data": {
      "text/html": [
       "<div>\n",
       "<style scoped>\n",
       "    .dataframe tbody tr th:only-of-type {\n",
       "        vertical-align: middle;\n",
       "    }\n",
       "\n",
       "    .dataframe tbody tr th {\n",
       "        vertical-align: top;\n",
       "    }\n",
       "\n",
       "    .dataframe thead th {\n",
       "        text-align: right;\n",
       "    }\n",
       "</style>\n",
       "<table border=\"1\" class=\"dataframe\">\n",
       "  <thead>\n",
       "    <tr style=\"text-align: right;\">\n",
       "      <th></th>\n",
       "      <th>PassengerId</th>\n",
       "      <th>Survived</th>\n",
       "      <th>Pclass</th>\n",
       "      <th>Age</th>\n",
       "      <th>SibSp</th>\n",
       "      <th>Parch</th>\n",
       "      <th>Fare</th>\n",
       "    </tr>\n",
       "  </thead>\n",
       "  <tbody>\n",
       "    <tr>\n",
       "      <th>count</th>\n",
       "      <td>891.000000</td>\n",
       "      <td>891.000000</td>\n",
       "      <td>891.000000</td>\n",
       "      <td>714.000000</td>\n",
       "      <td>891.000000</td>\n",
       "      <td>891.000000</td>\n",
       "      <td>891.000000</td>\n",
       "    </tr>\n",
       "    <tr>\n",
       "      <th>mean</th>\n",
       "      <td>446.000000</td>\n",
       "      <td>0.383838</td>\n",
       "      <td>2.308642</td>\n",
       "      <td>29.699118</td>\n",
       "      <td>0.523008</td>\n",
       "      <td>0.381594</td>\n",
       "      <td>32.204208</td>\n",
       "    </tr>\n",
       "    <tr>\n",
       "      <th>std</th>\n",
       "      <td>257.353842</td>\n",
       "      <td>0.486592</td>\n",
       "      <td>0.836071</td>\n",
       "      <td>14.526497</td>\n",
       "      <td>1.102743</td>\n",
       "      <td>0.806057</td>\n",
       "      <td>49.693429</td>\n",
       "    </tr>\n",
       "    <tr>\n",
       "      <th>min</th>\n",
       "      <td>1.000000</td>\n",
       "      <td>0.000000</td>\n",
       "      <td>1.000000</td>\n",
       "      <td>0.420000</td>\n",
       "      <td>0.000000</td>\n",
       "      <td>0.000000</td>\n",
       "      <td>0.000000</td>\n",
       "    </tr>\n",
       "    <tr>\n",
       "      <th>25%</th>\n",
       "      <td>223.500000</td>\n",
       "      <td>0.000000</td>\n",
       "      <td>2.000000</td>\n",
       "      <td>20.125000</td>\n",
       "      <td>0.000000</td>\n",
       "      <td>0.000000</td>\n",
       "      <td>7.910400</td>\n",
       "    </tr>\n",
       "    <tr>\n",
       "      <th>50%</th>\n",
       "      <td>446.000000</td>\n",
       "      <td>0.000000</td>\n",
       "      <td>3.000000</td>\n",
       "      <td>28.000000</td>\n",
       "      <td>0.000000</td>\n",
       "      <td>0.000000</td>\n",
       "      <td>14.454200</td>\n",
       "    </tr>\n",
       "    <tr>\n",
       "      <th>75%</th>\n",
       "      <td>668.500000</td>\n",
       "      <td>1.000000</td>\n",
       "      <td>3.000000</td>\n",
       "      <td>38.000000</td>\n",
       "      <td>1.000000</td>\n",
       "      <td>0.000000</td>\n",
       "      <td>31.000000</td>\n",
       "    </tr>\n",
       "    <tr>\n",
       "      <th>max</th>\n",
       "      <td>891.000000</td>\n",
       "      <td>1.000000</td>\n",
       "      <td>3.000000</td>\n",
       "      <td>80.000000</td>\n",
       "      <td>8.000000</td>\n",
       "      <td>6.000000</td>\n",
       "      <td>512.329200</td>\n",
       "    </tr>\n",
       "  </tbody>\n",
       "</table>\n",
       "</div>"
      ],
      "text/plain": [
       "       PassengerId    Survived      Pclass         Age       SibSp  \\\n",
       "count   891.000000  891.000000  891.000000  714.000000  891.000000   \n",
       "mean    446.000000    0.383838    2.308642   29.699118    0.523008   \n",
       "std     257.353842    0.486592    0.836071   14.526497    1.102743   \n",
       "min       1.000000    0.000000    1.000000    0.420000    0.000000   \n",
       "25%     223.500000    0.000000    2.000000   20.125000    0.000000   \n",
       "50%     446.000000    0.000000    3.000000   28.000000    0.000000   \n",
       "75%     668.500000    1.000000    3.000000   38.000000    1.000000   \n",
       "max     891.000000    1.000000    3.000000   80.000000    8.000000   \n",
       "\n",
       "            Parch        Fare  \n",
       "count  891.000000  891.000000  \n",
       "mean     0.381594   32.204208  \n",
       "std      0.806057   49.693429  \n",
       "min      0.000000    0.000000  \n",
       "25%      0.000000    7.910400  \n",
       "50%      0.000000   14.454200  \n",
       "75%      0.000000   31.000000  \n",
       "max      6.000000  512.329200  "
      ]
     },
     "execution_count": 7,
     "metadata": {},
     "output_type": "execute_result"
    }
   ],
   "source": [
    "train.describe()\n",
    "\n",
    "#a few columns i'm interested to explore if it affects survivability is:\n",
    "    #fare \n",
    "    #sibsp\n",
    "    #parch\n",
    "    #age"
   ]
  },
  {
   "cell_type": "markdown",
   "id": "401ed65d",
   "metadata": {
    "papermill": {
     "duration": 0.069245,
     "end_time": "2022-02-09T16:03:13.762168",
     "exception": false,
     "start_time": "2022-02-09T16:03:13.692923",
     "status": "completed"
    },
    "tags": []
   },
   "source": [
    "## EDA"
   ]
  },
  {
   "cell_type": "code",
   "execution_count": 8,
   "id": "82aa1a3c",
   "metadata": {
    "execution": {
     "iopub.execute_input": "2022-02-09T16:03:13.906895Z",
     "iopub.status.busy": "2022-02-09T16:03:13.906145Z",
     "iopub.status.idle": "2022-02-09T16:03:14.248233Z",
     "shell.execute_reply": "2022-02-09T16:03:14.248810Z",
     "shell.execute_reply.started": "2022-02-09T15:46:05.289457Z"
    },
    "papermill": {
     "duration": 0.41481,
     "end_time": "2022-02-09T16:03:14.248983",
     "exception": false,
     "start_time": "2022-02-09T16:03:13.834173",
     "status": "completed"
    },
    "tags": []
   },
   "outputs": [
    {
     "data": {
      "text/plain": [
       "<seaborn.axisgrid.FacetGrid at 0x7f57ca79c350>"
      ]
     },
     "execution_count": 8,
     "metadata": {},
     "output_type": "execute_result"
    },
    {
     "data": {
      "image/png": "[encoded data removed]",
      "text/plain": [
       "<Figure size 360x360 with 1 Axes>"
      ]
     },
     "metadata": {
      "needs_background": "light"
     },
     "output_type": "display_data"
    }
   ],
   "source": [
    "sns.displot(data = train, x = 'Age')"
   ]
  },
  {
   "cell_type": "code",
   "execution_count": 9,
   "id": "d9e7d7e8",
   "metadata": {
    "execution": {
     "iopub.execute_input": "2022-02-09T16:03:14.393757Z",
     "iopub.status.busy": "2022-02-09T16:03:14.392988Z",
     "iopub.status.idle": "2022-02-09T16:03:14.698954Z",
     "shell.execute_reply": "2022-02-09T16:03:14.699460Z",
     "shell.execute_reply.started": "2022-02-09T15:46:06.110446Z"
    },
    "papermill": {
     "duration": 0.379234,
     "end_time": "2022-02-09T16:03:14.699701",
     "exception": false,
     "start_time": "2022-02-09T16:03:14.320467",
     "status": "completed"
    },
    "tags": []
   },
   "outputs": [
    {
     "data": {
      "text/plain": [
       "<seaborn.axisgrid.FacetGrid at 0x7f57c8603790>"
      ]
     },
     "execution_count": 9,
     "metadata": {},
     "output_type": "execute_result"
    },
    {
     "data": {
      "image/png": "[encoded data removed]",
      "text/plain": [
       "<Figure size 360x360 with 1 Axes>"
      ]
     },
     "metadata": {
      "needs_background": "light"
     },
     "output_type": "display_data"
    }
   ],
   "source": [
    "sns.displot(data = train, x = 'Fare', bins = 10)"
   ]
  },
  {
   "cell_type": "code",
   "execution_count": 10,
   "id": "2f85aec3",
   "metadata": {
    "execution": {
     "iopub.execute_input": "2022-02-09T16:03:14.877592Z",
     "iopub.status.busy": "2022-02-09T16:03:14.851447Z",
     "iopub.status.idle": "2022-02-09T16:03:15.173336Z",
     "shell.execute_reply": "2022-02-09T16:03:15.172553Z",
     "shell.execute_reply.started": "2022-02-09T15:46:06.747950Z"
    },
    "papermill": {
     "duration": 0.40252,
     "end_time": "2022-02-09T16:03:15.173500",
     "exception": false,
     "start_time": "2022-02-09T16:03:14.770980",
     "status": "completed"
    },
    "tags": []
   },
   "outputs": [
    {
     "data": {
      "text/plain": [
       "<seaborn.axisgrid.FacetGrid at 0x7f57c872a790>"
      ]
     },
     "execution_count": 10,
     "metadata": {},
     "output_type": "execute_result"
    },
    {
     "data": {
      "image/png": "[encoded data removed]",
      "text/plain": [
       "<Figure size 360x360 with 1 Axes>"
      ]
     },
     "metadata": {
      "needs_background": "light"
     },
     "output_type": "display_data"
    }
   ],
   "source": [
    "sns.displot(data = train, x = 'SibSp', bins = 10)"
   ]
  },
  {
   "cell_type": "code",
   "execution_count": 11,
   "id": "846a5c06",
   "metadata": {
    "execution": {
     "iopub.execute_input": "2022-02-09T16:03:15.340034Z",
     "iopub.status.busy": "2022-02-09T16:03:15.322956Z",
     "iopub.status.idle": "2022-02-09T16:03:15.641567Z",
     "shell.execute_reply": "2022-02-09T16:03:15.641049Z",
     "shell.execute_reply.started": "2022-02-09T15:46:07.947951Z"
    },
    "papermill": {
     "duration": 0.396402,
     "end_time": "2022-02-09T16:03:15.641737",
     "exception": false,
     "start_time": "2022-02-09T16:03:15.245335",
     "status": "completed"
    },
    "tags": []
   },
   "outputs": [
    {
     "data": {
      "text/plain": [
       "<seaborn.axisgrid.FacetGrid at 0x7f57c843b750>"
      ]
     },
     "execution_count": 11,
     "metadata": {},
     "output_type": "execute_result"
    },
    {
     "data": {
      "image/png": "[encoded data removed]",
      "text/plain": [
       "<Figure size 360x360 with 1 Axes>"
      ]
     },
     "metadata": {
      "needs_background": "light"
     },
     "output_type": "display_data"
    }
   ],
   "source": [
    "sns.displot(data = train, x = 'Parch')"
   ]
  },
  {
   "cell_type": "code",
   "execution_count": 12,
   "id": "9c2843ae",
   "metadata": {
    "execution": {
     "iopub.execute_input": "2022-02-09T16:03:15.798094Z",
     "iopub.status.busy": "2022-02-09T16:03:15.792950Z",
     "iopub.status.idle": "2022-02-09T16:03:15.814915Z",
     "shell.execute_reply": "2022-02-09T16:03:15.815465Z",
     "shell.execute_reply.started": "2022-02-09T15:46:08.759197Z"
    },
    "papermill": {
     "duration": 0.100191,
     "end_time": "2022-02-09T16:03:15.815655",
     "exception": false,
     "start_time": "2022-02-09T16:03:15.715464",
     "status": "completed"
    },
    "scrolled": true,
    "tags": []
   },
   "outputs": [
    {
     "data": {
      "text/html": [
       "<div>\n",
       "<style scoped>\n",
       "    .dataframe tbody tr th:only-of-type {\n",
       "        vertical-align: middle;\n",
       "    }\n",
       "\n",
       "    .dataframe tbody tr th {\n",
       "        vertical-align: top;\n",
       "    }\n",
       "\n",
       "    .dataframe thead th {\n",
       "        text-align: right;\n",
       "    }\n",
       "</style>\n",
       "<table border=\"1\" class=\"dataframe\">\n",
       "  <thead>\n",
       "    <tr style=\"text-align: right;\">\n",
       "      <th></th>\n",
       "      <th>Age</th>\n",
       "      <th>Fare</th>\n",
       "      <th>Parch</th>\n",
       "      <th>SibSp</th>\n",
       "    </tr>\n",
       "    <tr>\n",
       "      <th>Survived</th>\n",
       "      <th></th>\n",
       "      <th></th>\n",
       "      <th></th>\n",
       "      <th></th>\n",
       "    </tr>\n",
       "  </thead>\n",
       "  <tbody>\n",
       "    <tr>\n",
       "      <th>0</th>\n",
       "      <td>30.626179</td>\n",
       "      <td>22.117887</td>\n",
       "      <td>0.329690</td>\n",
       "      <td>0.553734</td>\n",
       "    </tr>\n",
       "    <tr>\n",
       "      <th>1</th>\n",
       "      <td>28.343690</td>\n",
       "      <td>48.395408</td>\n",
       "      <td>0.464912</td>\n",
       "      <td>0.473684</td>\n",
       "    </tr>\n",
       "  </tbody>\n",
       "</table>\n",
       "</div>"
      ],
      "text/plain": [
       "                Age       Fare     Parch     SibSp\n",
       "Survived                                          \n",
       "0         30.626179  22.117887  0.329690  0.553734\n",
       "1         28.343690  48.395408  0.464912  0.473684"
      ]
     },
     "execution_count": 12,
     "metadata": {},
     "output_type": "execute_result"
    }
   ],
   "source": [
    "pd.pivot_table(data = train, index = 'Survived', values = ['Age', 'Fare', 'SibSp', 'Parch'])"
   ]
  },
  {
   "cell_type": "code",
   "execution_count": 13,
   "id": "66c0875c",
   "metadata": {
    "execution": {
     "iopub.execute_input": "2022-02-09T16:03:15.969229Z",
     "iopub.status.busy": "2022-02-09T16:03:15.968214Z",
     "iopub.status.idle": "2022-02-09T16:03:15.972431Z",
     "shell.execute_reply": "2022-02-09T16:03:15.971874Z",
     "shell.execute_reply.started": "2022-02-09T15:46:09.411492Z"
    },
    "papermill": {
     "duration": 0.081384,
     "end_time": "2022-02-09T16:03:15.972580",
     "exception": false,
     "start_time": "2022-02-09T16:03:15.891196",
     "status": "completed"
    },
    "tags": []
   },
   "outputs": [],
   "source": [
    "#Preliminary look at the data we deduce: \n",
    "    #Age is normally distributed. \n",
    "    #Bulk of the passengers paid for a cheaper ticket. \n",
    "    #Bulk of the passengers don't have any siblings or spouse. \n",
    "    #Bulk of the passengers don't have parent or child. "
   ]
  },
  {
   "cell_type": "markdown",
   "id": "a57ae8fd",
   "metadata": {
    "papermill": {
     "duration": 0.073271,
     "end_time": "2022-02-09T16:03:16.118587",
     "exception": false,
     "start_time": "2022-02-09T16:03:16.045316",
     "status": "completed"
    },
    "tags": []
   },
   "source": [
    "## Clean the data"
   ]
  },
  {
   "cell_type": "code",
   "execution_count": 14,
   "id": "3d12dda8",
   "metadata": {
    "execution": {
     "iopub.execute_input": "2022-02-09T16:03:16.279479Z",
     "iopub.status.busy": "2022-02-09T16:03:16.272278Z",
     "iopub.status.idle": "2022-02-09T16:03:16.481608Z",
     "shell.execute_reply": "2022-02-09T16:03:16.481104Z",
     "shell.execute_reply.started": "2022-02-09T15:46:10.722002Z"
    },
    "papermill": {
     "duration": 0.288636,
     "end_time": "2022-02-09T16:03:16.481773",
     "exception": false,
     "start_time": "2022-02-09T16:03:16.193137",
     "status": "completed"
    },
    "tags": []
   },
   "outputs": [
    {
     "data": {
      "text/plain": [
       "<AxesSubplot:>"
      ]
     },
     "execution_count": 14,
     "metadata": {},
     "output_type": "execute_result"
    },
    {
     "data": {
      "image/png": "[encoded data removed]",
      "text/plain": [
       "<Figure size 432x288 with 1 Axes>"
      ]
     },
     "metadata": {
      "needs_background": "light"
     },
     "output_type": "display_data"
    }
   ],
   "source": [
    "sns.heatmap(train.isnull(), yticklabels = False, cbar = False)\n",
    "\n",
    "#fill the missing fields for age with average.\n",
    "#but cabin seem to have too many missing information, we to drop the column."
   ]
  },
  {
   "cell_type": "code",
   "execution_count": 15,
   "id": "a4a92404",
   "metadata": {
    "execution": {
     "iopub.execute_input": "2022-02-09T16:03:16.633922Z",
     "iopub.status.busy": "2022-02-09T16:03:16.633218Z",
     "iopub.status.idle": "2022-02-09T16:03:16.637726Z",
     "shell.execute_reply": "2022-02-09T16:03:16.638343Z",
     "shell.execute_reply.started": "2022-02-09T15:46:11.770271Z"
    },
    "papermill": {
     "duration": 0.08262,
     "end_time": "2022-02-09T16:03:16.638515",
     "exception": false,
     "start_time": "2022-02-09T16:03:16.555895",
     "status": "completed"
    },
    "tags": []
   },
   "outputs": [],
   "source": [
    "train['Age'].fillna(train['Age'].mean(), inplace = True)"
   ]
  },
  {
   "cell_type": "code",
   "execution_count": 16,
   "id": "13ae0167",
   "metadata": {
    "execution": {
     "iopub.execute_input": "2022-02-09T16:03:16.790478Z",
     "iopub.status.busy": "2022-02-09T16:03:16.789871Z",
     "iopub.status.idle": "2022-02-09T16:03:16.794159Z",
     "shell.execute_reply": "2022-02-09T16:03:16.794738Z",
     "shell.execute_reply.started": "2022-02-09T15:46:12.343396Z"
    },
    "papermill": {
     "duration": 0.081682,
     "end_time": "2022-02-09T16:03:16.794914",
     "exception": false,
     "start_time": "2022-02-09T16:03:16.713232",
     "status": "completed"
    },
    "tags": []
   },
   "outputs": [],
   "source": [
    "train.drop('Cabin', axis = 1, inplace = True)"
   ]
  },
  {
   "cell_type": "code",
   "execution_count": 17,
   "id": "8dd05e1c",
   "metadata": {
    "execution": {
     "iopub.execute_input": "2022-02-09T16:03:16.950959Z",
     "iopub.status.busy": "2022-02-09T16:03:16.950281Z",
     "iopub.status.idle": "2022-02-09T16:03:17.148192Z",
     "shell.execute_reply": "2022-02-09T16:03:17.147504Z",
     "shell.execute_reply.started": "2022-02-09T15:46:13.196270Z"
    },
    "papermill": {
     "duration": 0.278757,
     "end_time": "2022-02-09T16:03:17.148353",
     "exception": false,
     "start_time": "2022-02-09T16:03:16.869596",
     "status": "completed"
    },
    "tags": []
   },
   "outputs": [
    {
     "data": {
      "text/plain": [
       "<AxesSubplot:>"
      ]
     },
     "execution_count": 17,
     "metadata": {},
     "output_type": "execute_result"
    },
    {
     "data": {
      "image/png": "[encoded data removed]",
      "text/plain": [
       "<Figure size 432x288 with 1 Axes>"
      ]
     },
     "metadata": {
      "needs_background": "light"
     },
     "output_type": "display_data"
    }
   ],
   "source": [
    "sns.heatmap(train.isnull(), yticklabels = False, cbar = False)"
   ]
  },
  {
   "cell_type": "markdown",
   "id": "c1033aa1",
   "metadata": {
    "papermill": {
     "duration": 0.075348,
     "end_time": "2022-02-09T16:03:17.301041",
     "exception": false,
     "start_time": "2022-02-09T16:03:17.225693",
     "status": "completed"
    },
    "tags": []
   },
   "source": [
    "## Feature engineering and first look at most correlated features"
   ]
  },
  {
   "cell_type": "code",
   "execution_count": 18,
   "id": "cd2f1bcb",
   "metadata": {
    "execution": {
     "iopub.execute_input": "2022-02-09T16:03:17.467426Z",
     "iopub.status.busy": "2022-02-09T16:03:17.466770Z",
     "iopub.status.idle": "2022-02-09T16:03:17.471242Z",
     "shell.execute_reply": "2022-02-09T16:03:17.470655Z",
     "shell.execute_reply.started": "2022-02-09T15:46:14.621082Z"
    },
    "papermill": {
     "duration": 0.094919,
     "end_time": "2022-02-09T16:03:17.471386",
     "exception": false,
     "start_time": "2022-02-09T16:03:17.376467",
     "status": "completed"
    },
    "tags": []
   },
   "outputs": [
    {
     "data": {
      "text/html": [
       "<div>\n",
       "<style scoped>\n",
       "    .dataframe tbody tr th:only-of-type {\n",
       "        vertical-align: middle;\n",
       "    }\n",
       "\n",
       "    .dataframe tbody tr th {\n",
       "        vertical-align: top;\n",
       "    }\n",
       "\n",
       "    .dataframe thead th {\n",
       "        text-align: right;\n",
       "    }\n",
       "</style>\n",
       "<table border=\"1\" class=\"dataframe\">\n",
       "  <thead>\n",
       "    <tr style=\"text-align: right;\">\n",
       "      <th></th>\n",
       "      <th>PassengerId</th>\n",
       "      <th>Survived</th>\n",
       "      <th>Pclass</th>\n",
       "      <th>Name</th>\n",
       "      <th>Sex</th>\n",
       "      <th>Age</th>\n",
       "      <th>SibSp</th>\n",
       "      <th>Parch</th>\n",
       "      <th>Ticket</th>\n",
       "      <th>Fare</th>\n",
       "      <th>Embarked</th>\n",
       "    </tr>\n",
       "  </thead>\n",
       "  <tbody>\n",
       "    <tr>\n",
       "      <th>0</th>\n",
       "      <td>1</td>\n",
       "      <td>0</td>\n",
       "      <td>3</td>\n",
       "      <td>Braund, Mr. Owen Harris</td>\n",
       "      <td>male</td>\n",
       "      <td>22.0</td>\n",
       "      <td>1</td>\n",
       "      <td>0</td>\n",
       "      <td>A/5 21171</td>\n",
       "      <td>7.2500</td>\n",
       "      <td>S</td>\n",
       "    </tr>\n",
       "    <tr>\n",
       "      <th>1</th>\n",
       "      <td>2</td>\n",
       "      <td>1</td>\n",
       "      <td>1</td>\n",
       "      <td>Cumings, Mrs. John Bradley (Florence Briggs Th...</td>\n",
       "      <td>female</td>\n",
       "      <td>38.0</td>\n",
       "      <td>1</td>\n",
       "      <td>0</td>\n",
       "      <td>PC 17599</td>\n",
       "      <td>71.2833</td>\n",
       "      <td>C</td>\n",
       "    </tr>\n",
       "    <tr>\n",
       "      <th>2</th>\n",
       "      <td>3</td>\n",
       "      <td>1</td>\n",
       "      <td>3</td>\n",
       "      <td>Heikkinen, Miss. Laina</td>\n",
       "      <td>female</td>\n",
       "      <td>26.0</td>\n",
       "      <td>0</td>\n",
       "      <td>0</td>\n",
       "      <td>STON/O2. 3101282</td>\n",
       "      <td>7.9250</td>\n",
       "      <td>S</td>\n",
       "    </tr>\n",
       "    <tr>\n",
       "      <th>3</th>\n",
       "      <td>4</td>\n",
       "      <td>1</td>\n",
       "      <td>1</td>\n",
       "      <td>Futrelle, Mrs. Jacques Heath (Lily May Peel)</td>\n",
       "      <td>female</td>\n",
       "      <td>35.0</td>\n",
       "      <td>1</td>\n",
       "      <td>0</td>\n",
       "      <td>113803</td>\n",
       "      <td>53.1000</td>\n",
       "      <td>S</td>\n",
       "    </tr>\n",
       "    <tr>\n",
       "      <th>4</th>\n",
       "      <td>5</td>\n",
       "      <td>0</td>\n",
       "      <td>3</td>\n",
       "      <td>Allen, Mr. William Henry</td>\n",
       "      <td>male</td>\n",
       "      <td>35.0</td>\n",
       "      <td>0</td>\n",
       "      <td>0</td>\n",
       "      <td>373450</td>\n",
       "      <td>8.0500</td>\n",
       "      <td>S</td>\n",
       "    </tr>\n",
       "  </tbody>\n",
       "</table>\n",
       "</div>"
      ],
      "text/plain": [
       "   PassengerId  Survived  Pclass  \\\n",
       "0            1         0       3   \n",
       "1            2         1       1   \n",
       "2            3         1       3   \n",
       "3            4         1       1   \n",
       "4            5         0       3   \n",
       "\n",
       "                                                Name     Sex   Age  SibSp  \\\n",
       "0                            Braund, Mr. Owen Harris    male  22.0      1   \n",
       "1  Cumings, Mrs. John Bradley (Florence Briggs Th...  female  38.0      1   \n",
       "2                             Heikkinen, Miss. Laina  female  26.0      0   \n",
       "3       Futrelle, Mrs. Jacques Heath (Lily May Peel)  female  35.0      1   \n",
       "4                           Allen, Mr. William Henry    male  35.0      0   \n",
       "\n",
       "   Parch            Ticket     Fare Embarked  \n",
       "0      0         A/5 21171   7.2500        S  \n",
       "1      0          PC 17599  71.2833        C  \n",
       "2      0  STON/O2. 3101282   7.9250        S  \n",
       "3      0            113803  53.1000        S  \n",
       "4      0            373450   8.0500        S  "
      ]
     },
     "execution_count": 18,
     "metadata": {},
     "output_type": "execute_result"
    }
   ],
   "source": [
    "train.head()"
   ]
  },
  {
   "cell_type": "code",
   "execution_count": 19,
   "id": "5a71e8cc",
   "metadata": {
    "execution": {
     "iopub.execute_input": "2022-02-09T16:03:17.631970Z",
     "iopub.status.busy": "2022-02-09T16:03:17.631287Z",
     "iopub.status.idle": "2022-02-09T16:03:17.634655Z",
     "shell.execute_reply": "2022-02-09T16:03:17.634002Z",
     "shell.execute_reply.started": "2022-02-09T15:46:15.270279Z"
    },
    "papermill": {
     "duration": 0.087522,
     "end_time": "2022-02-09T16:03:17.634806",
     "exception": false,
     "start_time": "2022-02-09T16:03:17.547284",
     "status": "completed"
    },
    "tags": []
   },
   "outputs": [],
   "source": [
    "#lets see if the title of passengers affect survivability\n",
    "\n",
    "train['title'] = train.Name.apply(lambda x : x.split(',')[1].split('.')[0].strip())"
   ]
  },
  {
   "cell_type": "code",
   "execution_count": 20,
   "id": "d076c2ad",
   "metadata": {
    "execution": {
     "iopub.execute_input": "2022-02-09T16:03:17.792331Z",
     "iopub.status.busy": "2022-02-09T16:03:17.791591Z",
     "iopub.status.idle": "2022-02-09T16:03:17.806038Z",
     "shell.execute_reply": "2022-02-09T16:03:17.806587Z",
     "shell.execute_reply.started": "2022-02-09T15:46:16.000906Z"
    },
    "papermill": {
     "duration": 0.096074,
     "end_time": "2022-02-09T16:03:17.806975",
     "exception": false,
     "start_time": "2022-02-09T16:03:17.710901",
     "status": "completed"
    },
    "tags": []
   },
   "outputs": [
    {
     "data": {
      "text/html": [
       "<div>\n",
       "<style scoped>\n",
       "    .dataframe tbody tr th:only-of-type {\n",
       "        vertical-align: middle;\n",
       "    }\n",
       "\n",
       "    .dataframe tbody tr th {\n",
       "        vertical-align: top;\n",
       "    }\n",
       "\n",
       "    .dataframe thead th {\n",
       "        text-align: right;\n",
       "    }\n",
       "</style>\n",
       "<table border=\"1\" class=\"dataframe\">\n",
       "  <thead>\n",
       "    <tr style=\"text-align: right;\">\n",
       "      <th></th>\n",
       "      <th>PassengerId</th>\n",
       "      <th>Survived</th>\n",
       "      <th>Pclass</th>\n",
       "      <th>Name</th>\n",
       "      <th>Sex</th>\n",
       "      <th>Age</th>\n",
       "      <th>SibSp</th>\n",
       "      <th>Parch</th>\n",
       "      <th>Ticket</th>\n",
       "      <th>Fare</th>\n",
       "      <th>Embarked</th>\n",
       "      <th>title</th>\n",
       "    </tr>\n",
       "  </thead>\n",
       "  <tbody>\n",
       "    <tr>\n",
       "      <th>0</th>\n",
       "      <td>1</td>\n",
       "      <td>0</td>\n",
       "      <td>3</td>\n",
       "      <td>Braund, Mr. Owen Harris</td>\n",
       "      <td>male</td>\n",
       "      <td>22.0</td>\n",
       "      <td>1</td>\n",
       "      <td>0</td>\n",
       "      <td>A/5 21171</td>\n",
       "      <td>7.25</td>\n",
       "      <td>S</td>\n",
       "      <td>Mr</td>\n",
       "    </tr>\n",
       "  </tbody>\n",
       "</table>\n",
       "</div>"
      ],
      "text/plain": [
       "   PassengerId  Survived  Pclass                     Name   Sex   Age  SibSp  \\\n",
       "0            1         0       3  Braund, Mr. Owen Harris  male  22.0      1   \n",
       "\n",
       "   Parch     Ticket  Fare Embarked title  \n",
       "0      0  A/5 21171  7.25        S    Mr  "
      ]
     },
     "execution_count": 20,
     "metadata": {},
     "output_type": "execute_result"
    }
   ],
   "source": [
    "train.head(1)"
   ]
  },
  {
   "cell_type": "code",
   "execution_count": 21,
   "id": "13c7ebd5",
   "metadata": {
    "execution": {
     "iopub.execute_input": "2022-02-09T16:03:17.966897Z",
     "iopub.status.busy": "2022-02-09T16:03:17.966128Z",
     "iopub.status.idle": "2022-02-09T16:03:17.999091Z",
     "shell.execute_reply": "2022-02-09T16:03:17.999740Z",
     "shell.execute_reply.started": "2022-02-09T15:46:16.692383Z"
    },
    "papermill": {
     "duration": 0.113765,
     "end_time": "2022-02-09T16:03:17.999950",
     "exception": false,
     "start_time": "2022-02-09T16:03:17.886185",
     "status": "completed"
    },
    "tags": []
   },
   "outputs": [
    {
     "data": {
      "text/html": [
       "<div>\n",
       "<style scoped>\n",
       "    .dataframe tbody tr th:only-of-type {\n",
       "        vertical-align: middle;\n",
       "    }\n",
       "\n",
       "    .dataframe tbody tr th {\n",
       "        vertical-align: top;\n",
       "    }\n",
       "\n",
       "    .dataframe thead th {\n",
       "        text-align: right;\n",
       "    }\n",
       "</style>\n",
       "<table border=\"1\" class=\"dataframe\">\n",
       "  <thead>\n",
       "    <tr style=\"text-align: right;\">\n",
       "      <th>title</th>\n",
       "      <th>Capt</th>\n",
       "      <th>Col</th>\n",
       "      <th>Don</th>\n",
       "      <th>Dr</th>\n",
       "      <th>Jonkheer</th>\n",
       "      <th>Lady</th>\n",
       "      <th>Major</th>\n",
       "      <th>Master</th>\n",
       "      <th>Miss</th>\n",
       "      <th>Mlle</th>\n",
       "      <th>Mme</th>\n",
       "      <th>Mr</th>\n",
       "      <th>Mrs</th>\n",
       "      <th>Ms</th>\n",
       "      <th>Rev</th>\n",
       "      <th>Sir</th>\n",
       "      <th>the Countess</th>\n",
       "    </tr>\n",
       "    <tr>\n",
       "      <th>Survived</th>\n",
       "      <th></th>\n",
       "      <th></th>\n",
       "      <th></th>\n",
       "      <th></th>\n",
       "      <th></th>\n",
       "      <th></th>\n",
       "      <th></th>\n",
       "      <th></th>\n",
       "      <th></th>\n",
       "      <th></th>\n",
       "      <th></th>\n",
       "      <th></th>\n",
       "      <th></th>\n",
       "      <th></th>\n",
       "      <th></th>\n",
       "      <th></th>\n",
       "      <th></th>\n",
       "    </tr>\n",
       "  </thead>\n",
       "  <tbody>\n",
       "    <tr>\n",
       "      <th>0</th>\n",
       "      <td>1.0</td>\n",
       "      <td>1.0</td>\n",
       "      <td>1.0</td>\n",
       "      <td>4.0</td>\n",
       "      <td>1.0</td>\n",
       "      <td>NaN</td>\n",
       "      <td>1.0</td>\n",
       "      <td>17.0</td>\n",
       "      <td>55.0</td>\n",
       "      <td>NaN</td>\n",
       "      <td>NaN</td>\n",
       "      <td>436.0</td>\n",
       "      <td>26.0</td>\n",
       "      <td>NaN</td>\n",
       "      <td>6.0</td>\n",
       "      <td>NaN</td>\n",
       "      <td>NaN</td>\n",
       "    </tr>\n",
       "    <tr>\n",
       "      <th>1</th>\n",
       "      <td>NaN</td>\n",
       "      <td>1.0</td>\n",
       "      <td>NaN</td>\n",
       "      <td>3.0</td>\n",
       "      <td>NaN</td>\n",
       "      <td>1.0</td>\n",
       "      <td>1.0</td>\n",
       "      <td>23.0</td>\n",
       "      <td>127.0</td>\n",
       "      <td>2.0</td>\n",
       "      <td>1.0</td>\n",
       "      <td>81.0</td>\n",
       "      <td>99.0</td>\n",
       "      <td>1.0</td>\n",
       "      <td>NaN</td>\n",
       "      <td>1.0</td>\n",
       "      <td>1.0</td>\n",
       "    </tr>\n",
       "  </tbody>\n",
       "</table>\n",
       "</div>"
      ],
      "text/plain": [
       "title     Capt  Col  Don   Dr  Jonkheer  Lady  Major  Master   Miss  Mlle  \\\n",
       "Survived                                                                    \n",
       "0          1.0  1.0  1.0  4.0       1.0   NaN    1.0    17.0   55.0   NaN   \n",
       "1          NaN  1.0  NaN  3.0       NaN   1.0    1.0    23.0  127.0   2.0   \n",
       "\n",
       "title     Mme     Mr   Mrs   Ms  Rev  Sir  the Countess  \n",
       "Survived                                                 \n",
       "0         NaN  436.0  26.0  NaN  6.0  NaN           NaN  \n",
       "1         1.0   81.0  99.0  1.0  NaN  1.0           1.0  "
      ]
     },
     "execution_count": 21,
     "metadata": {},
     "output_type": "execute_result"
    }
   ],
   "source": [
    "pd.pivot_table(data = train, index = 'Survived', columns = 'title', values = 'Age', aggfunc = 'count')"
   ]
  },
  {
   "cell_type": "code",
   "execution_count": 22,
   "id": "7e485a7d",
   "metadata": {
    "execution": {
     "iopub.execute_input": "2022-02-09T16:03:18.157613Z",
     "iopub.status.busy": "2022-02-09T16:03:18.156950Z",
     "iopub.status.idle": "2022-02-09T16:03:18.160139Z",
     "shell.execute_reply": "2022-02-09T16:03:18.160781Z",
     "shell.execute_reply.started": "2022-02-09T15:46:17.385735Z"
    },
    "papermill": {
     "duration": 0.083171,
     "end_time": "2022-02-09T16:03:18.160957",
     "exception": false,
     "start_time": "2022-02-09T16:03:18.077786",
     "status": "completed"
    },
    "tags": []
   },
   "outputs": [],
   "source": [
    "#the captain of the ship did not survive. We can assume that he tried his best to get passengers off before himself.\n",
    "#col, major, sir - military personnels are more likely to survive.\n",
    "#doctors are also very likely to survive (3/4)\n",
    "#the only countess onboard survived. She was later praised for helping row the safety craft to a rescue ship.\n",
    "#most passengers fall into the Miss, Mr, and Mrs categories. Of which, male title (Mr) is the most likely not to survive\n",
    "\n",
    "#so yes, title has a correlation to survivability"
   ]
  },
  {
   "cell_type": "code",
   "execution_count": 23,
   "id": "24b96eb4",
   "metadata": {
    "execution": {
     "iopub.execute_input": "2022-02-09T16:03:18.318816Z",
     "iopub.status.busy": "2022-02-09T16:03:18.318176Z",
     "iopub.status.idle": "2022-02-09T16:03:18.543962Z",
     "shell.execute_reply": "2022-02-09T16:03:18.543412Z",
     "shell.execute_reply.started": "2022-02-09T15:46:18.088430Z"
    },
    "papermill": {
     "duration": 0.305191,
     "end_time": "2022-02-09T16:03:18.544106",
     "exception": false,
     "start_time": "2022-02-09T16:03:18.238915",
     "status": "completed"
    },
    "tags": []
   },
   "outputs": [
    {
     "data": {
      "text/plain": [
       "<AxesSubplot:xlabel='Survived', ylabel='count'>"
      ]
     },
     "execution_count": 23,
     "metadata": {},
     "output_type": "execute_result"
    },
    {
     "data": {
      "image/png": "[encoded data removed]",
      "text/plain": [
       "<Figure size 432x288 with 1 Axes>"
      ]
     },
     "metadata": {
      "needs_background": "light"
     },
     "output_type": "display_data"
    }
   ],
   "source": [
    "#lets see if the class of passengers affect survivability\n",
    "\n",
    "sns.countplot(data = train, x = 'Survived', hue = 'Pclass')\n",
    "\n",
    "#3rd class passengers will most likely not survive."
   ]
  },
  {
   "cell_type": "code",
   "execution_count": 24,
   "id": "441ae1bf",
   "metadata": {
    "execution": {
     "iopub.execute_input": "2022-02-09T16:03:18.703669Z",
     "iopub.status.busy": "2022-02-09T16:03:18.702986Z",
     "iopub.status.idle": "2022-02-09T16:03:18.710658Z",
     "shell.execute_reply": "2022-02-09T16:03:18.711656Z",
     "shell.execute_reply.started": "2022-02-09T15:46:18.999212Z"
    },
    "papermill": {
     "duration": 0.089429,
     "end_time": "2022-02-09T16:03:18.711871",
     "exception": false,
     "start_time": "2022-02-09T16:03:18.622442",
     "status": "completed"
    },
    "tags": []
   },
   "outputs": [],
   "source": [
    "#lets see if the age of passengers affect survivability\n",
    "\n",
    "bins = [18, 30, 40, 50, 60, 70, 120]\n",
    "labels = ['18-29', '30-39', '40-49', '50-59', '60-69', '70+']\n",
    "train['age_range'] = pd.cut(train.Age.astype(np.int64), bins, labels = labels, include_lowest = True)"
   ]
  },
  {
   "cell_type": "code",
   "execution_count": 25,
   "id": "bf8da7a3",
   "metadata": {
    "execution": {
     "iopub.execute_input": "2022-02-09T16:03:18.876346Z",
     "iopub.status.busy": "2022-02-09T16:03:18.875539Z",
     "iopub.status.idle": "2022-02-09T16:03:19.133990Z",
     "shell.execute_reply": "2022-02-09T16:03:19.134512Z",
     "shell.execute_reply.started": "2022-02-09T15:46:19.952402Z"
    },
    "papermill": {
     "duration": 0.343221,
     "end_time": "2022-02-09T16:03:19.134703",
     "exception": false,
     "start_time": "2022-02-09T16:03:18.791482",
     "status": "completed"
    },
    "tags": []
   },
   "outputs": [
    {
     "data": {
      "text/plain": [
       "<AxesSubplot:xlabel='Survived', ylabel='count'>"
      ]
     },
     "execution_count": 25,
     "metadata": {},
     "output_type": "execute_result"
    },
    {
     "data": {
      "image/png": "[encoded data removed]",
      "text/plain": [
       "<Figure size 432x288 with 1 Axes>"
      ]
     },
     "metadata": {
      "needs_background": "light"
     },
     "output_type": "display_data"
    }
   ],
   "source": [
    "sns.countplot(data = train, x = 'Survived', hue = 'age_range')"
   ]
  },
  {
   "cell_type": "code",
   "execution_count": 26,
   "id": "38b8c666",
   "metadata": {
    "execution": {
     "iopub.execute_input": "2022-02-09T16:03:19.295287Z",
     "iopub.status.busy": "2022-02-09T16:03:19.294644Z",
     "iopub.status.idle": "2022-02-09T16:03:19.301575Z",
     "shell.execute_reply": "2022-02-09T16:03:19.302185Z",
     "shell.execute_reply.started": "2022-02-09T15:46:21.013383Z"
    },
    "papermill": {
     "duration": 0.088862,
     "end_time": "2022-02-09T16:03:19.302365",
     "exception": false,
     "start_time": "2022-02-09T16:03:19.213503",
     "status": "completed"
    },
    "tags": []
   },
   "outputs": [
    {
     "data": {
      "text/plain": [
       "18-29    475\n",
       "30-39    155\n",
       "40-49     84\n",
       "50-59     42\n",
       "60-69     18\n",
       "70+        4\n",
       "Name: age_range, dtype: int64"
      ]
     },
     "execution_count": 26,
     "metadata": {},
     "output_type": "execute_result"
    }
   ],
   "source": [
    "train.age_range.value_counts()"
   ]
  },
  {
   "cell_type": "code",
   "execution_count": 27,
   "id": "022ba573",
   "metadata": {
    "execution": {
     "iopub.execute_input": "2022-02-09T16:03:19.463056Z",
     "iopub.status.busy": "2022-02-09T16:03:19.462382Z",
     "iopub.status.idle": "2022-02-09T16:03:19.465574Z",
     "shell.execute_reply": "2022-02-09T16:03:19.466066Z",
     "shell.execute_reply.started": "2022-02-09T15:46:22.750545Z"
    },
    "papermill": {
     "duration": 0.084977,
     "end_time": "2022-02-09T16:03:19.466230",
     "exception": false,
     "start_time": "2022-02-09T16:03:19.381253",
     "status": "completed"
    },
    "tags": []
   },
   "outputs": [],
   "source": [
    "#in both categories: survived and did not survive, the majority are aged 18-29.\n",
    "#in both categories: slowly trickles down in count as the age range increases.\n",
    "#this is becos most passengers are aged 18-29. Naturally, this would result in both categories having the same distribution.\n",
    "#no conclusive result can be derived.\n",
    "#not used."
   ]
  },
  {
   "cell_type": "code",
   "execution_count": 28,
   "id": "acd4ea56",
   "metadata": {
    "execution": {
     "iopub.execute_input": "2022-02-09T16:03:19.642187Z",
     "iopub.status.busy": "2022-02-09T16:03:19.641504Z",
     "iopub.status.idle": "2022-02-09T16:03:19.645419Z",
     "shell.execute_reply": "2022-02-09T16:03:19.644816Z",
     "shell.execute_reply.started": "2022-02-09T15:46:23.422674Z"
    },
    "papermill": {
     "duration": 0.09995,
     "end_time": "2022-02-09T16:03:19.645565",
     "exception": false,
     "start_time": "2022-02-09T16:03:19.545615",
     "status": "completed"
    },
    "tags": []
   },
   "outputs": [
    {
     "data": {
      "text/html": [
       "<div>\n",
       "<style scoped>\n",
       "    .dataframe tbody tr th:only-of-type {\n",
       "        vertical-align: middle;\n",
       "    }\n",
       "\n",
       "    .dataframe tbody tr th {\n",
       "        vertical-align: top;\n",
       "    }\n",
       "\n",
       "    .dataframe thead th {\n",
       "        text-align: right;\n",
       "    }\n",
       "</style>\n",
       "<table border=\"1\" class=\"dataframe\">\n",
       "  <thead>\n",
       "    <tr style=\"text-align: right;\">\n",
       "      <th></th>\n",
       "      <th>PassengerId</th>\n",
       "      <th>Survived</th>\n",
       "      <th>Pclass</th>\n",
       "      <th>Name</th>\n",
       "      <th>Sex</th>\n",
       "      <th>Age</th>\n",
       "      <th>SibSp</th>\n",
       "      <th>Parch</th>\n",
       "      <th>Ticket</th>\n",
       "      <th>Fare</th>\n",
       "      <th>Embarked</th>\n",
       "      <th>title</th>\n",
       "      <th>age_range</th>\n",
       "    </tr>\n",
       "  </thead>\n",
       "  <tbody>\n",
       "    <tr>\n",
       "      <th>0</th>\n",
       "      <td>1</td>\n",
       "      <td>0</td>\n",
       "      <td>3</td>\n",
       "      <td>Braund, Mr. Owen Harris</td>\n",
       "      <td>male</td>\n",
       "      <td>22.0</td>\n",
       "      <td>1</td>\n",
       "      <td>0</td>\n",
       "      <td>A/5 21171</td>\n",
       "      <td>7.2500</td>\n",
       "      <td>S</td>\n",
       "      <td>Mr</td>\n",
       "      <td>18-29</td>\n",
       "    </tr>\n",
       "    <tr>\n",
       "      <th>1</th>\n",
       "      <td>2</td>\n",
       "      <td>1</td>\n",
       "      <td>1</td>\n",
       "      <td>Cumings, Mrs. John Bradley (Florence Briggs Th...</td>\n",
       "      <td>female</td>\n",
       "      <td>38.0</td>\n",
       "      <td>1</td>\n",
       "      <td>0</td>\n",
       "      <td>PC 17599</td>\n",
       "      <td>71.2833</td>\n",
       "      <td>C</td>\n",
       "      <td>Mrs</td>\n",
       "      <td>30-39</td>\n",
       "    </tr>\n",
       "    <tr>\n",
       "      <th>2</th>\n",
       "      <td>3</td>\n",
       "      <td>1</td>\n",
       "      <td>3</td>\n",
       "      <td>Heikkinen, Miss. Laina</td>\n",
       "      <td>female</td>\n",
       "      <td>26.0</td>\n",
       "      <td>0</td>\n",
       "      <td>0</td>\n",
       "      <td>STON/O2. 3101282</td>\n",
       "      <td>7.9250</td>\n",
       "      <td>S</td>\n",
       "      <td>Miss</td>\n",
       "      <td>18-29</td>\n",
       "    </tr>\n",
       "    <tr>\n",
       "      <th>3</th>\n",
       "      <td>4</td>\n",
       "      <td>1</td>\n",
       "      <td>1</td>\n",
       "      <td>Futrelle, Mrs. Jacques Heath (Lily May Peel)</td>\n",
       "      <td>female</td>\n",
       "      <td>35.0</td>\n",
       "      <td>1</td>\n",
       "      <td>0</td>\n",
       "      <td>113803</td>\n",
       "      <td>53.1000</td>\n",
       "      <td>S</td>\n",
       "      <td>Mrs</td>\n",
       "      <td>30-39</td>\n",
       "    </tr>\n",
       "    <tr>\n",
       "      <th>4</th>\n",
       "      <td>5</td>\n",
       "      <td>0</td>\n",
       "      <td>3</td>\n",
       "      <td>Allen, Mr. William Henry</td>\n",
       "      <td>male</td>\n",
       "      <td>35.0</td>\n",
       "      <td>0</td>\n",
       "      <td>0</td>\n",
       "      <td>373450</td>\n",
       "      <td>8.0500</td>\n",
       "      <td>S</td>\n",
       "      <td>Mr</td>\n",
       "      <td>30-39</td>\n",
       "    </tr>\n",
       "  </tbody>\n",
       "</table>\n",
       "</div>"
      ],
      "text/plain": [
       "   PassengerId  Survived  Pclass  \\\n",
       "0            1         0       3   \n",
       "1            2         1       1   \n",
       "2            3         1       3   \n",
       "3            4         1       1   \n",
       "4            5         0       3   \n",
       "\n",
       "                                                Name     Sex   Age  SibSp  \\\n",
       "0                            Braund, Mr. Owen Harris    male  22.0      1   \n",
       "1  Cumings, Mrs. John Bradley (Florence Briggs Th...  female  38.0      1   \n",
       "2                             Heikkinen, Miss. Laina  female  26.0      0   \n",
       "3       Futrelle, Mrs. Jacques Heath (Lily May Peel)  female  35.0      1   \n",
       "4                           Allen, Mr. William Henry    male  35.0      0   \n",
       "\n",
       "   Parch            Ticket     Fare Embarked title age_range  \n",
       "0      0         A/5 21171   7.2500        S    Mr     18-29  \n",
       "1      0          PC 17599  71.2833        C   Mrs     30-39  \n",
       "2      0  STON/O2. 3101282   7.9250        S  Miss     18-29  \n",
       "3      0            113803  53.1000        S   Mrs     30-39  \n",
       "4      0            373450   8.0500        S    Mr     30-39  "
      ]
     },
     "execution_count": 28,
     "metadata": {},
     "output_type": "execute_result"
    }
   ],
   "source": [
    "train.head()"
   ]
  },
  {
   "cell_type": "markdown",
   "id": "f911065f",
   "metadata": {
    "papermill": {
     "duration": 0.079782,
     "end_time": "2022-02-09T16:03:19.805562",
     "exception": false,
     "start_time": "2022-02-09T16:03:19.725780",
     "status": "completed"
    },
    "tags": []
   },
   "source": [
    "## Clean up test dataset"
   ]
  },
  {
   "cell_type": "code",
   "execution_count": 29,
   "id": "518e5946",
   "metadata": {
    "execution": {
     "iopub.execute_input": "2022-02-09T16:03:19.977851Z",
     "iopub.status.busy": "2022-02-09T16:03:19.977177Z",
     "iopub.status.idle": "2022-02-09T16:03:19.986211Z",
     "shell.execute_reply": "2022-02-09T16:03:19.986762Z",
     "shell.execute_reply.started": "2022-02-09T15:46:25.639486Z"
    },
    "papermill": {
     "duration": 0.101012,
     "end_time": "2022-02-09T16:03:19.986942",
     "exception": false,
     "start_time": "2022-02-09T16:03:19.885930",
     "status": "completed"
    },
    "tags": []
   },
   "outputs": [
    {
     "data": {
      "text/html": [
       "<div>\n",
       "<style scoped>\n",
       "    .dataframe tbody tr th:only-of-type {\n",
       "        vertical-align: middle;\n",
       "    }\n",
       "\n",
       "    .dataframe tbody tr th {\n",
       "        vertical-align: top;\n",
       "    }\n",
       "\n",
       "    .dataframe thead th {\n",
       "        text-align: right;\n",
       "    }\n",
       "</style>\n",
       "<table border=\"1\" class=\"dataframe\">\n",
       "  <thead>\n",
       "    <tr style=\"text-align: right;\">\n",
       "      <th></th>\n",
       "      <th>PassengerId</th>\n",
       "      <th>Survived</th>\n",
       "      <th>Pclass</th>\n",
       "      <th>Name</th>\n",
       "      <th>Sex</th>\n",
       "      <th>Age</th>\n",
       "      <th>SibSp</th>\n",
       "      <th>Parch</th>\n",
       "      <th>Ticket</th>\n",
       "      <th>Fare</th>\n",
       "      <th>Embarked</th>\n",
       "      <th>title</th>\n",
       "      <th>age_range</th>\n",
       "    </tr>\n",
       "  </thead>\n",
       "  <tbody>\n",
       "    <tr>\n",
       "      <th>0</th>\n",
       "      <td>1</td>\n",
       "      <td>0</td>\n",
       "      <td>3</td>\n",
       "      <td>Braund, Mr. Owen Harris</td>\n",
       "      <td>male</td>\n",
       "      <td>22.0</td>\n",
       "      <td>1</td>\n",
       "      <td>0</td>\n",
       "      <td>A/5 21171</td>\n",
       "      <td>7.2500</td>\n",
       "      <td>S</td>\n",
       "      <td>Mr</td>\n",
       "      <td>18-29</td>\n",
       "    </tr>\n",
       "    <tr>\n",
       "      <th>1</th>\n",
       "      <td>2</td>\n",
       "      <td>1</td>\n",
       "      <td>1</td>\n",
       "      <td>Cumings, Mrs. John Bradley (Florence Briggs Th...</td>\n",
       "      <td>female</td>\n",
       "      <td>38.0</td>\n",
       "      <td>1</td>\n",
       "      <td>0</td>\n",
       "      <td>PC 17599</td>\n",
       "      <td>71.2833</td>\n",
       "      <td>C</td>\n",
       "      <td>Mrs</td>\n",
       "      <td>30-39</td>\n",
       "    </tr>\n",
       "  </tbody>\n",
       "</table>\n",
       "</div>"
      ],
      "text/plain": [
       "   PassengerId  Survived  Pclass  \\\n",
       "0            1         0       3   \n",
       "1            2         1       1   \n",
       "\n",
       "                                                Name     Sex   Age  SibSp  \\\n",
       "0                            Braund, Mr. Owen Harris    male  22.0      1   \n",
       "1  Cumings, Mrs. John Bradley (Florence Briggs Th...  female  38.0      1   \n",
       "\n",
       "   Parch     Ticket     Fare Embarked title age_range  \n",
       "0      0  A/5 21171   7.2500        S    Mr     18-29  \n",
       "1      0   PC 17599  71.2833        C   Mrs     30-39  "
      ]
     },
     "execution_count": 29,
     "metadata": {},
     "output_type": "execute_result"
    }
   ],
   "source": [
    "train.head(2)"
   ]
  },
  {
   "cell_type": "code",
   "execution_count": 30,
   "id": "7ef0c4bc",
   "metadata": {
    "execution": {
     "iopub.execute_input": "2022-02-09T16:03:20.152127Z",
     "iopub.status.busy": "2022-02-09T16:03:20.151458Z",
     "iopub.status.idle": "2022-02-09T16:03:20.164309Z",
     "shell.execute_reply": "2022-02-09T16:03:20.164905Z",
     "shell.execute_reply.started": "2022-02-09T15:46:26.328772Z"
    },
    "papermill": {
     "duration": 0.096644,
     "end_time": "2022-02-09T16:03:20.165082",
     "exception": false,
     "start_time": "2022-02-09T16:03:20.068438",
     "status": "completed"
    },
    "tags": []
   },
   "outputs": [
    {
     "data": {
      "text/html": [
       "<div>\n",
       "<style scoped>\n",
       "    .dataframe tbody tr th:only-of-type {\n",
       "        vertical-align: middle;\n",
       "    }\n",
       "\n",
       "    .dataframe tbody tr th {\n",
       "        vertical-align: top;\n",
       "    }\n",
       "\n",
       "    .dataframe thead th {\n",
       "        text-align: right;\n",
       "    }\n",
       "</style>\n",
       "<table border=\"1\" class=\"dataframe\">\n",
       "  <thead>\n",
       "    <tr style=\"text-align: right;\">\n",
       "      <th></th>\n",
       "      <th>PassengerId</th>\n",
       "      <th>Pclass</th>\n",
       "      <th>Name</th>\n",
       "      <th>Sex</th>\n",
       "      <th>Age</th>\n",
       "      <th>SibSp</th>\n",
       "      <th>Parch</th>\n",
       "      <th>Ticket</th>\n",
       "      <th>Fare</th>\n",
       "      <th>Cabin</th>\n",
       "      <th>Embarked</th>\n",
       "    </tr>\n",
       "  </thead>\n",
       "  <tbody>\n",
       "    <tr>\n",
       "      <th>0</th>\n",
       "      <td>892</td>\n",
       "      <td>3</td>\n",
       "      <td>Kelly, Mr. James</td>\n",
       "      <td>male</td>\n",
       "      <td>34.5</td>\n",
       "      <td>0</td>\n",
       "      <td>0</td>\n",
       "      <td>330911</td>\n",
       "      <td>7.8292</td>\n",
       "      <td>NaN</td>\n",
       "      <td>Q</td>\n",
       "    </tr>\n",
       "    <tr>\n",
       "      <th>1</th>\n",
       "      <td>893</td>\n",
       "      <td>3</td>\n",
       "      <td>Wilkes, Mrs. James (Ellen Needs)</td>\n",
       "      <td>female</td>\n",
       "      <td>47.0</td>\n",
       "      <td>1</td>\n",
       "      <td>0</td>\n",
       "      <td>363272</td>\n",
       "      <td>7.0000</td>\n",
       "      <td>NaN</td>\n",
       "      <td>S</td>\n",
       "    </tr>\n",
       "  </tbody>\n",
       "</table>\n",
       "</div>"
      ],
      "text/plain": [
       "   PassengerId  Pclass                              Name     Sex   Age  SibSp  \\\n",
       "0          892       3                  Kelly, Mr. James    male  34.5      0   \n",
       "1          893       3  Wilkes, Mrs. James (Ellen Needs)  female  47.0      1   \n",
       "\n",
       "   Parch  Ticket    Fare Cabin Embarked  \n",
       "0      0  330911  7.8292   NaN        Q  \n",
       "1      0  363272  7.0000   NaN        S  "
      ]
     },
     "execution_count": 30,
     "metadata": {},
     "output_type": "execute_result"
    }
   ],
   "source": [
    "test.head(2)"
   ]
  },
  {
   "cell_type": "code",
   "execution_count": 31,
   "id": "56f9cc4c",
   "metadata": {
    "execution": {
     "iopub.execute_input": "2022-02-09T16:03:20.332038Z",
     "iopub.status.busy": "2022-02-09T16:03:20.331376Z",
     "iopub.status.idle": "2022-02-09T16:03:20.522072Z",
     "shell.execute_reply": "2022-02-09T16:03:20.522670Z",
     "shell.execute_reply.started": "2022-02-09T15:46:27.287971Z"
    },
    "papermill": {
     "duration": 0.275706,
     "end_time": "2022-02-09T16:03:20.522841",
     "exception": false,
     "start_time": "2022-02-09T16:03:20.247135",
     "status": "completed"
    },
    "tags": []
   },
   "outputs": [
    {
     "data": {
      "text/plain": [
       "<AxesSubplot:>"
      ]
     },
     "execution_count": 31,
     "metadata": {},
     "output_type": "execute_result"
    },
    {
     "data": {
      "image/png": "[encoded data removed]",
      "text/plain": [
       "<Figure size 432x288 with 1 Axes>"
      ]
     },
     "metadata": {
      "needs_background": "light"
     },
     "output_type": "display_data"
    }
   ],
   "source": [
    "sns.heatmap(test.isnull(), yticklabels = False, cbar = False)"
   ]
  },
  {
   "cell_type": "code",
   "execution_count": 32,
   "id": "f7b5f1af",
   "metadata": {
    "execution": {
     "iopub.execute_input": "2022-02-09T16:03:20.688922Z",
     "iopub.status.busy": "2022-02-09T16:03:20.688270Z",
     "iopub.status.idle": "2022-02-09T16:03:20.692970Z",
     "shell.execute_reply": "2022-02-09T16:03:20.693546Z",
     "shell.execute_reply.started": "2022-02-09T15:46:28.023907Z"
    },
    "papermill": {
     "duration": 0.089317,
     "end_time": "2022-02-09T16:03:20.693731",
     "exception": false,
     "start_time": "2022-02-09T16:03:20.604414",
     "status": "completed"
    },
    "tags": []
   },
   "outputs": [],
   "source": [
    "test.drop('Cabin', axis = 1, inplace = True)"
   ]
  },
  {
   "cell_type": "code",
   "execution_count": 33,
   "id": "329f8750",
   "metadata": {
    "execution": {
     "iopub.execute_input": "2022-02-09T16:03:20.866333Z",
     "iopub.status.busy": "2022-02-09T16:03:20.865656Z",
     "iopub.status.idle": "2022-02-09T16:03:20.870355Z",
     "shell.execute_reply": "2022-02-09T16:03:20.870925Z",
     "shell.execute_reply.started": "2022-02-09T15:46:28.724570Z"
    },
    "papermill": {
     "duration": 0.094793,
     "end_time": "2022-02-09T16:03:20.871106",
     "exception": false,
     "start_time": "2022-02-09T16:03:20.776313",
     "status": "completed"
    },
    "tags": []
   },
   "outputs": [],
   "source": [
    "test['Age'].fillna(train['Age'].mean(), inplace = True)"
   ]
  },
  {
   "cell_type": "code",
   "execution_count": 34,
   "id": "c6cc12ac",
   "metadata": {
    "execution": {
     "iopub.execute_input": "2022-02-09T16:03:21.046275Z",
     "iopub.status.busy": "2022-02-09T16:03:21.045567Z",
     "iopub.status.idle": "2022-02-09T16:03:21.051328Z",
     "shell.execute_reply": "2022-02-09T16:03:21.051946Z",
     "shell.execute_reply.started": "2022-02-09T15:46:29.584842Z"
    },
    "papermill": {
     "duration": 0.092189,
     "end_time": "2022-02-09T16:03:21.052118",
     "exception": false,
     "start_time": "2022-02-09T16:03:20.959929",
     "status": "completed"
    },
    "tags": []
   },
   "outputs": [],
   "source": [
    "test['title'] = test.Name.apply(lambda x : x.split(',')[1].split('.')[0].strip())"
   ]
  },
  {
   "cell_type": "code",
   "execution_count": 35,
   "id": "604e4ae8",
   "metadata": {
    "execution": {
     "iopub.execute_input": "2022-02-09T16:03:21.226925Z",
     "iopub.status.busy": "2022-02-09T16:03:21.226247Z",
     "iopub.status.idle": "2022-02-09T16:03:21.227786Z",
     "shell.execute_reply": "2022-02-09T16:03:21.228392Z",
     "shell.execute_reply.started": "2022-02-09T15:46:30.284361Z"
    },
    "papermill": {
     "duration": 0.095129,
     "end_time": "2022-02-09T16:03:21.228564",
     "exception": false,
     "start_time": "2022-02-09T16:03:21.133435",
     "status": "completed"
    },
    "tags": []
   },
   "outputs": [],
   "source": [
    "bins = [18, 30, 40, 50, 60, 70, 120]\n",
    "labels = ['18-29', '30-39', '40-49', '50-59', '60-69', '70+']\n",
    "test['age_range'] = pd.cut(test.Age.astype(np.int64), bins, labels = labels, include_lowest = True)"
   ]
  },
  {
   "cell_type": "code",
   "execution_count": 36,
   "id": "116dfb3f",
   "metadata": {
    "execution": {
     "iopub.execute_input": "2022-02-09T16:03:21.396821Z",
     "iopub.status.busy": "2022-02-09T16:03:21.396128Z",
     "iopub.status.idle": "2022-02-09T16:03:21.419847Z",
     "shell.execute_reply": "2022-02-09T16:03:21.420397Z",
     "shell.execute_reply.started": "2022-02-09T15:46:31.036777Z"
    },
    "papermill": {
     "duration": 0.109429,
     "end_time": "2022-02-09T16:03:21.420574",
     "exception": false,
     "start_time": "2022-02-09T16:03:21.311145",
     "status": "completed"
    },
    "tags": []
   },
   "outputs": [
    {
     "data": {
      "text/html": [
       "<div>\n",
       "<style scoped>\n",
       "    .dataframe tbody tr th:only-of-type {\n",
       "        vertical-align: middle;\n",
       "    }\n",
       "\n",
       "    .dataframe tbody tr th {\n",
       "        vertical-align: top;\n",
       "    }\n",
       "\n",
       "    .dataframe thead th {\n",
       "        text-align: right;\n",
       "    }\n",
       "</style>\n",
       "<table border=\"1\" class=\"dataframe\">\n",
       "  <thead>\n",
       "    <tr style=\"text-align: right;\">\n",
       "      <th></th>\n",
       "      <th>PassengerId</th>\n",
       "      <th>Pclass</th>\n",
       "      <th>Name</th>\n",
       "      <th>Sex</th>\n",
       "      <th>Age</th>\n",
       "      <th>SibSp</th>\n",
       "      <th>Parch</th>\n",
       "      <th>Ticket</th>\n",
       "      <th>Fare</th>\n",
       "      <th>Embarked</th>\n",
       "      <th>title</th>\n",
       "      <th>age_range</th>\n",
       "    </tr>\n",
       "  </thead>\n",
       "  <tbody>\n",
       "    <tr>\n",
       "      <th>0</th>\n",
       "      <td>892</td>\n",
       "      <td>3</td>\n",
       "      <td>Kelly, Mr. James</td>\n",
       "      <td>male</td>\n",
       "      <td>34.500000</td>\n",
       "      <td>0</td>\n",
       "      <td>0</td>\n",
       "      <td>330911</td>\n",
       "      <td>7.8292</td>\n",
       "      <td>Q</td>\n",
       "      <td>Mr</td>\n",
       "      <td>30-39</td>\n",
       "    </tr>\n",
       "    <tr>\n",
       "      <th>1</th>\n",
       "      <td>893</td>\n",
       "      <td>3</td>\n",
       "      <td>Wilkes, Mrs. James (Ellen Needs)</td>\n",
       "      <td>female</td>\n",
       "      <td>47.000000</td>\n",
       "      <td>1</td>\n",
       "      <td>0</td>\n",
       "      <td>363272</td>\n",
       "      <td>7.0000</td>\n",
       "      <td>S</td>\n",
       "      <td>Mrs</td>\n",
       "      <td>40-49</td>\n",
       "    </tr>\n",
       "    <tr>\n",
       "      <th>2</th>\n",
       "      <td>894</td>\n",
       "      <td>2</td>\n",
       "      <td>Myles, Mr. Thomas Francis</td>\n",
       "      <td>male</td>\n",
       "      <td>62.000000</td>\n",
       "      <td>0</td>\n",
       "      <td>0</td>\n",
       "      <td>240276</td>\n",
       "      <td>9.6875</td>\n",
       "      <td>Q</td>\n",
       "      <td>Mr</td>\n",
       "      <td>60-69</td>\n",
       "    </tr>\n",
       "    <tr>\n",
       "      <th>3</th>\n",
       "      <td>895</td>\n",
       "      <td>3</td>\n",
       "      <td>Wirz, Mr. Albert</td>\n",
       "      <td>male</td>\n",
       "      <td>27.000000</td>\n",
       "      <td>0</td>\n",
       "      <td>0</td>\n",
       "      <td>315154</td>\n",
       "      <td>8.6625</td>\n",
       "      <td>S</td>\n",
       "      <td>Mr</td>\n",
       "      <td>18-29</td>\n",
       "    </tr>\n",
       "    <tr>\n",
       "      <th>4</th>\n",
       "      <td>896</td>\n",
       "      <td>3</td>\n",
       "      <td>Hirvonen, Mrs. Alexander (Helga E Lindqvist)</td>\n",
       "      <td>female</td>\n",
       "      <td>22.000000</td>\n",
       "      <td>1</td>\n",
       "      <td>1</td>\n",
       "      <td>3101298</td>\n",
       "      <td>12.2875</td>\n",
       "      <td>S</td>\n",
       "      <td>Mrs</td>\n",
       "      <td>18-29</td>\n",
       "    </tr>\n",
       "    <tr>\n",
       "      <th>...</th>\n",
       "      <td>...</td>\n",
       "      <td>...</td>\n",
       "      <td>...</td>\n",
       "      <td>...</td>\n",
       "      <td>...</td>\n",
       "      <td>...</td>\n",
       "      <td>...</td>\n",
       "      <td>...</td>\n",
       "      <td>...</td>\n",
       "      <td>...</td>\n",
       "      <td>...</td>\n",
       "      <td>...</td>\n",
       "    </tr>\n",
       "    <tr>\n",
       "      <th>413</th>\n",
       "      <td>1305</td>\n",
       "      <td>3</td>\n",
       "      <td>Spector, Mr. Woolf</td>\n",
       "      <td>male</td>\n",
       "      <td>29.699118</td>\n",
       "      <td>0</td>\n",
       "      <td>0</td>\n",
       "      <td>A.5. 3236</td>\n",
       "      <td>8.0500</td>\n",
       "      <td>S</td>\n",
       "      <td>Mr</td>\n",
       "      <td>18-29</td>\n",
       "    </tr>\n",
       "    <tr>\n",
       "      <th>414</th>\n",
       "      <td>1306</td>\n",
       "      <td>1</td>\n",
       "      <td>Oliva y Ocana, Dona. Fermina</td>\n",
       "      <td>female</td>\n",
       "      <td>39.000000</td>\n",
       "      <td>0</td>\n",
       "      <td>0</td>\n",
       "      <td>PC 17758</td>\n",
       "      <td>108.9000</td>\n",
       "      <td>C</td>\n",
       "      <td>Dona</td>\n",
       "      <td>30-39</td>\n",
       "    </tr>\n",
       "    <tr>\n",
       "      <th>415</th>\n",
       "      <td>1307</td>\n",
       "      <td>3</td>\n",
       "      <td>Saether, Mr. Simon Sivertsen</td>\n",
       "      <td>male</td>\n",
       "      <td>38.500000</td>\n",
       "      <td>0</td>\n",
       "      <td>0</td>\n",
       "      <td>SOTON/O.Q. 3101262</td>\n",
       "      <td>7.2500</td>\n",
       "      <td>S</td>\n",
       "      <td>Mr</td>\n",
       "      <td>30-39</td>\n",
       "    </tr>\n",
       "    <tr>\n",
       "      <th>416</th>\n",
       "      <td>1308</td>\n",
       "      <td>3</td>\n",
       "      <td>Ware, Mr. Frederick</td>\n",
       "      <td>male</td>\n",
       "      <td>29.699118</td>\n",
       "      <td>0</td>\n",
       "      <td>0</td>\n",
       "      <td>359309</td>\n",
       "      <td>8.0500</td>\n",
       "      <td>S</td>\n",
       "      <td>Mr</td>\n",
       "      <td>18-29</td>\n",
       "    </tr>\n",
       "    <tr>\n",
       "      <th>417</th>\n",
       "      <td>1309</td>\n",
       "      <td>3</td>\n",
       "      <td>Peter, Master. Michael J</td>\n",
       "      <td>male</td>\n",
       "      <td>29.699118</td>\n",
       "      <td>1</td>\n",
       "      <td>1</td>\n",
       "      <td>2668</td>\n",
       "      <td>22.3583</td>\n",
       "      <td>C</td>\n",
       "      <td>Master</td>\n",
       "      <td>18-29</td>\n",
       "    </tr>\n",
       "  </tbody>\n",
       "</table>\n",
       "<p>418 rows × 12 columns</p>\n",
       "</div>"
      ],
      "text/plain": [
       "     PassengerId  Pclass                                          Name  \\\n",
       "0            892       3                              Kelly, Mr. James   \n",
       "1            893       3              Wilkes, Mrs. James (Ellen Needs)   \n",
       "2            894       2                     Myles, Mr. Thomas Francis   \n",
       "3            895       3                              Wirz, Mr. Albert   \n",
       "4            896       3  Hirvonen, Mrs. Alexander (Helga E Lindqvist)   \n",
       "..           ...     ...                                           ...   \n",
       "413         1305       3                            Spector, Mr. Woolf   \n",
       "414         1306       1                  Oliva y Ocana, Dona. Fermina   \n",
       "415         1307       3                  Saether, Mr. Simon Sivertsen   \n",
       "416         1308       3                           Ware, Mr. Frederick   \n",
       "417         1309       3                      Peter, Master. Michael J   \n",
       "\n",
       "        Sex        Age  SibSp  Parch              Ticket      Fare Embarked  \\\n",
       "0      male  34.500000      0      0              330911    7.8292        Q   \n",
       "1    female  47.000000      1      0              363272    7.0000        S   \n",
       "2      male  62.000000      0      0              240276    9.6875        Q   \n",
       "3      male  27.000000      0      0              315154    8.6625        S   \n",
       "4    female  22.000000      1      1             3101298   12.2875        S   \n",
       "..      ...        ...    ...    ...                 ...       ...      ...   \n",
       "413    male  29.699118      0      0           A.5. 3236    8.0500        S   \n",
       "414  female  39.000000      0      0            PC 17758  108.9000        C   \n",
       "415    male  38.500000      0      0  SOTON/O.Q. 3101262    7.2500        S   \n",
       "416    male  29.699118      0      0              359309    8.0500        S   \n",
       "417    male  29.699118      1      1                2668   22.3583        C   \n",
       "\n",
       "      title age_range  \n",
       "0        Mr     30-39  \n",
       "1       Mrs     40-49  \n",
       "2        Mr     60-69  \n",
       "3        Mr     18-29  \n",
       "4       Mrs     18-29  \n",
       "..      ...       ...  \n",
       "413      Mr     18-29  \n",
       "414    Dona     30-39  \n",
       "415      Mr     30-39  \n",
       "416      Mr     18-29  \n",
       "417  Master     18-29  \n",
       "\n",
       "[418 rows x 12 columns]"
      ]
     },
     "execution_count": 36,
     "metadata": {},
     "output_type": "execute_result"
    }
   ],
   "source": [
    "test"
   ]
  },
  {
   "cell_type": "code",
   "execution_count": 37,
   "id": "93bd1d6a",
   "metadata": {
    "execution": {
     "iopub.execute_input": "2022-02-09T16:03:21.615611Z",
     "iopub.status.busy": "2022-02-09T16:03:21.595350Z",
     "iopub.status.idle": "2022-02-09T16:03:21.800092Z",
     "shell.execute_reply": "2022-02-09T16:03:21.800614Z",
     "shell.execute_reply.started": "2022-02-09T15:46:31.837362Z"
    },
    "papermill": {
     "duration": 0.297542,
     "end_time": "2022-02-09T16:03:21.800847",
     "exception": false,
     "start_time": "2022-02-09T16:03:21.503305",
     "status": "completed"
    },
    "tags": []
   },
   "outputs": [
    {
     "data": {
      "text/plain": [
       "<AxesSubplot:>"
      ]
     },
     "execution_count": 37,
     "metadata": {},
     "output_type": "execute_result"
    },
    {
     "data": {
      "image/png": "[encoded data removed]",
      "text/plain": [
       "<Figure size 432x288 with 1 Axes>"
      ]
     },
     "metadata": {
      "needs_background": "light"
     },
     "output_type": "display_data"
    }
   ],
   "source": [
    "sns.heatmap(test.isnull(), yticklabels = False, cbar = False)"
   ]
  },
  {
   "cell_type": "code",
   "execution_count": 38,
   "id": "9d57cfab",
   "metadata": {
    "execution": {
     "iopub.execute_input": "2022-02-09T16:03:21.998067Z",
     "iopub.status.busy": "2022-02-09T16:03:21.996855Z",
     "iopub.status.idle": "2022-02-09T16:03:22.000238Z",
     "shell.execute_reply": "2022-02-09T16:03:22.000692Z",
     "shell.execute_reply.started": "2022-02-09T15:46:32.461974Z"
    },
    "papermill": {
     "duration": 0.113367,
     "end_time": "2022-02-09T16:03:22.000901",
     "exception": false,
     "start_time": "2022-02-09T16:03:21.887534",
     "status": "completed"
    },
    "tags": []
   },
   "outputs": [
    {
     "data": {
      "text/plain": [
       "18-29    245\n",
       "30-39     56\n",
       "40-49     45\n",
       "50-59     21\n",
       "60-69      9\n",
       "70+        1\n",
       "Name: age_range, dtype: int64"
      ]
     },
     "execution_count": 38,
     "metadata": {},
     "output_type": "execute_result"
    }
   ],
   "source": [
    "#replace the null values with most common age_range - 18 to 29 yo\n",
    "\n",
    "test.age_range.value_counts()"
   ]
  },
  {
   "cell_type": "code",
   "execution_count": 39,
   "id": "94ef2b5a",
   "metadata": {
    "execution": {
     "iopub.execute_input": "2022-02-09T16:03:22.171940Z",
     "iopub.status.busy": "2022-02-09T16:03:22.171307Z",
     "iopub.status.idle": "2022-02-09T16:03:22.176236Z",
     "shell.execute_reply": "2022-02-09T16:03:22.176829Z",
     "shell.execute_reply.started": "2022-02-09T15:46:33.237705Z"
    },
    "papermill": {
     "duration": 0.092039,
     "end_time": "2022-02-09T16:03:22.177005",
     "exception": false,
     "start_time": "2022-02-09T16:03:22.084966",
     "status": "completed"
    },
    "scrolled": true,
    "tags": []
   },
   "outputs": [],
   "source": [
    "test['age_range'].fillna('18-29', inplace = True)"
   ]
  },
  {
   "cell_type": "code",
   "execution_count": 40,
   "id": "6888d7f7",
   "metadata": {
    "execution": {
     "iopub.execute_input": "2022-02-09T16:03:22.347601Z",
     "iopub.status.busy": "2022-02-09T16:03:22.346974Z",
     "iopub.status.idle": "2022-02-09T16:03:22.670374Z",
     "shell.execute_reply": "2022-02-09T16:03:22.669741Z",
     "shell.execute_reply.started": "2022-02-09T15:46:33.959868Z"
    },
    "papermill": {
     "duration": 0.409957,
     "end_time": "2022-02-09T16:03:22.670515",
     "exception": false,
     "start_time": "2022-02-09T16:03:22.260558",
     "status": "completed"
    },
    "tags": []
   },
   "outputs": [
    {
     "data": {
      "text/plain": [
       "<AxesSubplot:>"
      ]
     },
     "execution_count": 40,
     "metadata": {},
     "output_type": "execute_result"
    },
    {
     "data": {
      "image/png": "[encoded data removed]",
      "text/plain": [
       "<Figure size 432x288 with 1 Axes>"
      ]
     },
     "metadata": {
      "needs_background": "light"
     },
     "output_type": "display_data"
    }
   ],
   "source": [
    "sns.heatmap(test.isnull(), yticklabels = False, cbar = False)"
   ]
  },
  {
   "cell_type": "code",
   "execution_count": 41,
   "id": "6ffe78cd",
   "metadata": {
    "execution": {
     "iopub.execute_input": "2022-02-09T16:03:22.845726Z",
     "iopub.status.busy": "2022-02-09T16:03:22.845098Z",
     "iopub.status.idle": "2022-02-09T16:03:23.066026Z",
     "shell.execute_reply": "2022-02-09T16:03:23.066582Z",
     "shell.execute_reply.started": "2022-02-09T15:46:34.726912Z"
    },
    "papermill": {
     "duration": 0.3101,
     "end_time": "2022-02-09T16:03:23.066805",
     "exception": false,
     "start_time": "2022-02-09T16:03:22.756705",
     "status": "completed"
    },
    "tags": []
   },
   "outputs": [
    {
     "data": {
      "text/plain": [
       "<AxesSubplot:>"
      ]
     },
     "execution_count": 41,
     "metadata": {},
     "output_type": "execute_result"
    },
    {
     "data": {
      "image/png": "[encoded data removed]",
      "text/plain": [
       "<Figure size 432x288 with 1 Axes>"
      ]
     },
     "metadata": {
      "needs_background": "light"
     },
     "output_type": "display_data"
    }
   ],
   "source": [
    "#do the same for train dataset\n",
    "\n",
    "train['age_range'].fillna('18-29', inplace = True)\n",
    "sns.heatmap(train.isnull(), yticklabels = False, cbar = False)"
   ]
  },
  {
   "cell_type": "code",
   "execution_count": 42,
   "id": "1c1081ef",
   "metadata": {
    "execution": {
     "iopub.execute_input": "2022-02-09T16:03:23.243465Z",
     "iopub.status.busy": "2022-02-09T16:03:23.242744Z",
     "iopub.status.idle": "2022-02-09T16:03:23.259297Z",
     "shell.execute_reply": "2022-02-09T16:03:23.259870Z",
     "shell.execute_reply.started": "2022-02-09T15:46:35.593560Z"
    },
    "papermill": {
     "duration": 0.106904,
     "end_time": "2022-02-09T16:03:23.260057",
     "exception": false,
     "start_time": "2022-02-09T16:03:23.153153",
     "status": "completed"
    },
    "scrolled": true,
    "tags": []
   },
   "outputs": [
    {
     "data": {
      "text/html": [
       "<div>\n",
       "<style scoped>\n",
       "    .dataframe tbody tr th:only-of-type {\n",
       "        vertical-align: middle;\n",
       "    }\n",
       "\n",
       "    .dataframe tbody tr th {\n",
       "        vertical-align: top;\n",
       "    }\n",
       "\n",
       "    .dataframe thead th {\n",
       "        text-align: right;\n",
       "    }\n",
       "</style>\n",
       "<table border=\"1\" class=\"dataframe\">\n",
       "  <thead>\n",
       "    <tr style=\"text-align: right;\">\n",
       "      <th></th>\n",
       "      <th>PassengerId</th>\n",
       "      <th>Survived</th>\n",
       "      <th>Pclass</th>\n",
       "      <th>Name</th>\n",
       "      <th>Sex</th>\n",
       "      <th>Age</th>\n",
       "      <th>SibSp</th>\n",
       "      <th>Parch</th>\n",
       "      <th>Ticket</th>\n",
       "      <th>Fare</th>\n",
       "      <th>Embarked</th>\n",
       "      <th>title</th>\n",
       "      <th>age_range</th>\n",
       "    </tr>\n",
       "  </thead>\n",
       "  <tbody>\n",
       "    <tr>\n",
       "      <th>0</th>\n",
       "      <td>1</td>\n",
       "      <td>0</td>\n",
       "      <td>3</td>\n",
       "      <td>Braund, Mr. Owen Harris</td>\n",
       "      <td>male</td>\n",
       "      <td>22.0</td>\n",
       "      <td>1</td>\n",
       "      <td>0</td>\n",
       "      <td>A/5 21171</td>\n",
       "      <td>7.2500</td>\n",
       "      <td>S</td>\n",
       "      <td>Mr</td>\n",
       "      <td>18-29</td>\n",
       "    </tr>\n",
       "    <tr>\n",
       "      <th>1</th>\n",
       "      <td>2</td>\n",
       "      <td>1</td>\n",
       "      <td>1</td>\n",
       "      <td>Cumings, Mrs. John Bradley (Florence Briggs Th...</td>\n",
       "      <td>female</td>\n",
       "      <td>38.0</td>\n",
       "      <td>1</td>\n",
       "      <td>0</td>\n",
       "      <td>PC 17599</td>\n",
       "      <td>71.2833</td>\n",
       "      <td>C</td>\n",
       "      <td>Mrs</td>\n",
       "      <td>30-39</td>\n",
       "    </tr>\n",
       "    <tr>\n",
       "      <th>2</th>\n",
       "      <td>3</td>\n",
       "      <td>1</td>\n",
       "      <td>3</td>\n",
       "      <td>Heikkinen, Miss. Laina</td>\n",
       "      <td>female</td>\n",
       "      <td>26.0</td>\n",
       "      <td>0</td>\n",
       "      <td>0</td>\n",
       "      <td>STON/O2. 3101282</td>\n",
       "      <td>7.9250</td>\n",
       "      <td>S</td>\n",
       "      <td>Miss</td>\n",
       "      <td>18-29</td>\n",
       "    </tr>\n",
       "    <tr>\n",
       "      <th>3</th>\n",
       "      <td>4</td>\n",
       "      <td>1</td>\n",
       "      <td>1</td>\n",
       "      <td>Futrelle, Mrs. Jacques Heath (Lily May Peel)</td>\n",
       "      <td>female</td>\n",
       "      <td>35.0</td>\n",
       "      <td>1</td>\n",
       "      <td>0</td>\n",
       "      <td>113803</td>\n",
       "      <td>53.1000</td>\n",
       "      <td>S</td>\n",
       "      <td>Mrs</td>\n",
       "      <td>30-39</td>\n",
       "    </tr>\n",
       "    <tr>\n",
       "      <th>4</th>\n",
       "      <td>5</td>\n",
       "      <td>0</td>\n",
       "      <td>3</td>\n",
       "      <td>Allen, Mr. William Henry</td>\n",
       "      <td>male</td>\n",
       "      <td>35.0</td>\n",
       "      <td>0</td>\n",
       "      <td>0</td>\n",
       "      <td>373450</td>\n",
       "      <td>8.0500</td>\n",
       "      <td>S</td>\n",
       "      <td>Mr</td>\n",
       "      <td>30-39</td>\n",
       "    </tr>\n",
       "  </tbody>\n",
       "</table>\n",
       "</div>"
      ],
      "text/plain": [
       "   PassengerId  Survived  Pclass  \\\n",
       "0            1         0       3   \n",
       "1            2         1       1   \n",
       "2            3         1       3   \n",
       "3            4         1       1   \n",
       "4            5         0       3   \n",
       "\n",
       "                                                Name     Sex   Age  SibSp  \\\n",
       "0                            Braund, Mr. Owen Harris    male  22.0      1   \n",
       "1  Cumings, Mrs. John Bradley (Florence Briggs Th...  female  38.0      1   \n",
       "2                             Heikkinen, Miss. Laina  female  26.0      0   \n",
       "3       Futrelle, Mrs. Jacques Heath (Lily May Peel)  female  35.0      1   \n",
       "4                           Allen, Mr. William Henry    male  35.0      0   \n",
       "\n",
       "   Parch            Ticket     Fare Embarked title age_range  \n",
       "0      0         A/5 21171   7.2500        S    Mr     18-29  \n",
       "1      0          PC 17599  71.2833        C   Mrs     30-39  \n",
       "2      0  STON/O2. 3101282   7.9250        S  Miss     18-29  \n",
       "3      0            113803  53.1000        S   Mrs     30-39  \n",
       "4      0            373450   8.0500        S    Mr     30-39  "
      ]
     },
     "execution_count": 42,
     "metadata": {},
     "output_type": "execute_result"
    }
   ],
   "source": [
    "train.head()"
   ]
  },
  {
   "cell_type": "code",
   "execution_count": 43,
   "id": "8a3981f3",
   "metadata": {
    "execution": {
     "iopub.execute_input": "2022-02-09T16:03:23.437516Z",
     "iopub.status.busy": "2022-02-09T16:03:23.436552Z",
     "iopub.status.idle": "2022-02-09T16:03:23.452872Z",
     "shell.execute_reply": "2022-02-09T16:03:23.453443Z",
     "shell.execute_reply.started": "2022-02-09T15:46:36.198139Z"
    },
    "papermill": {
     "duration": 0.106777,
     "end_time": "2022-02-09T16:03:23.453617",
     "exception": false,
     "start_time": "2022-02-09T16:03:23.346840",
     "status": "completed"
    },
    "tags": []
   },
   "outputs": [
    {
     "data": {
      "text/html": [
       "<div>\n",
       "<style scoped>\n",
       "    .dataframe tbody tr th:only-of-type {\n",
       "        vertical-align: middle;\n",
       "    }\n",
       "\n",
       "    .dataframe tbody tr th {\n",
       "        vertical-align: top;\n",
       "    }\n",
       "\n",
       "    .dataframe thead th {\n",
       "        text-align: right;\n",
       "    }\n",
       "</style>\n",
       "<table border=\"1\" class=\"dataframe\">\n",
       "  <thead>\n",
       "    <tr style=\"text-align: right;\">\n",
       "      <th></th>\n",
       "      <th>PassengerId</th>\n",
       "      <th>Pclass</th>\n",
       "      <th>Name</th>\n",
       "      <th>Sex</th>\n",
       "      <th>Age</th>\n",
       "      <th>SibSp</th>\n",
       "      <th>Parch</th>\n",
       "      <th>Ticket</th>\n",
       "      <th>Fare</th>\n",
       "      <th>Embarked</th>\n",
       "      <th>title</th>\n",
       "      <th>age_range</th>\n",
       "    </tr>\n",
       "  </thead>\n",
       "  <tbody>\n",
       "    <tr>\n",
       "      <th>0</th>\n",
       "      <td>892</td>\n",
       "      <td>3</td>\n",
       "      <td>Kelly, Mr. James</td>\n",
       "      <td>male</td>\n",
       "      <td>34.5</td>\n",
       "      <td>0</td>\n",
       "      <td>0</td>\n",
       "      <td>330911</td>\n",
       "      <td>7.8292</td>\n",
       "      <td>Q</td>\n",
       "      <td>Mr</td>\n",
       "      <td>30-39</td>\n",
       "    </tr>\n",
       "    <tr>\n",
       "      <th>1</th>\n",
       "      <td>893</td>\n",
       "      <td>3</td>\n",
       "      <td>Wilkes, Mrs. James (Ellen Needs)</td>\n",
       "      <td>female</td>\n",
       "      <td>47.0</td>\n",
       "      <td>1</td>\n",
       "      <td>0</td>\n",
       "      <td>363272</td>\n",
       "      <td>7.0000</td>\n",
       "      <td>S</td>\n",
       "      <td>Mrs</td>\n",
       "      <td>40-49</td>\n",
       "    </tr>\n",
       "    <tr>\n",
       "      <th>2</th>\n",
       "      <td>894</td>\n",
       "      <td>2</td>\n",
       "      <td>Myles, Mr. Thomas Francis</td>\n",
       "      <td>male</td>\n",
       "      <td>62.0</td>\n",
       "      <td>0</td>\n",
       "      <td>0</td>\n",
       "      <td>240276</td>\n",
       "      <td>9.6875</td>\n",
       "      <td>Q</td>\n",
       "      <td>Mr</td>\n",
       "      <td>60-69</td>\n",
       "    </tr>\n",
       "    <tr>\n",
       "      <th>3</th>\n",
       "      <td>895</td>\n",
       "      <td>3</td>\n",
       "      <td>Wirz, Mr. Albert</td>\n",
       "      <td>male</td>\n",
       "      <td>27.0</td>\n",
       "      <td>0</td>\n",
       "      <td>0</td>\n",
       "      <td>315154</td>\n",
       "      <td>8.6625</td>\n",
       "      <td>S</td>\n",
       "      <td>Mr</td>\n",
       "      <td>18-29</td>\n",
       "    </tr>\n",
       "    <tr>\n",
       "      <th>4</th>\n",
       "      <td>896</td>\n",
       "      <td>3</td>\n",
       "      <td>Hirvonen, Mrs. Alexander (Helga E Lindqvist)</td>\n",
       "      <td>female</td>\n",
       "      <td>22.0</td>\n",
       "      <td>1</td>\n",
       "      <td>1</td>\n",
       "      <td>3101298</td>\n",
       "      <td>12.2875</td>\n",
       "      <td>S</td>\n",
       "      <td>Mrs</td>\n",
       "      <td>18-29</td>\n",
       "    </tr>\n",
       "  </tbody>\n",
       "</table>\n",
       "</div>"
      ],
      "text/plain": [
       "   PassengerId  Pclass                                          Name     Sex  \\\n",
       "0          892       3                              Kelly, Mr. James    male   \n",
       "1          893       3              Wilkes, Mrs. James (Ellen Needs)  female   \n",
       "2          894       2                     Myles, Mr. Thomas Francis    male   \n",
       "3          895       3                              Wirz, Mr. Albert    male   \n",
       "4          896       3  Hirvonen, Mrs. Alexander (Helga E Lindqvist)  female   \n",
       "\n",
       "    Age  SibSp  Parch   Ticket     Fare Embarked title age_range  \n",
       "0  34.5      0      0   330911   7.8292        Q    Mr     30-39  \n",
       "1  47.0      1      0   363272   7.0000        S   Mrs     40-49  \n",
       "2  62.0      0      0   240276   9.6875        Q    Mr     60-69  \n",
       "3  27.0      0      0   315154   8.6625        S    Mr     18-29  \n",
       "4  22.0      1      1  3101298  12.2875        S   Mrs     18-29  "
      ]
     },
     "execution_count": 43,
     "metadata": {},
     "output_type": "execute_result"
    }
   ],
   "source": [
    "test.head()"
   ]
  },
  {
   "cell_type": "code",
   "execution_count": 44,
   "id": "74daa487",
   "metadata": {
    "execution": {
     "iopub.execute_input": "2022-02-09T16:03:23.632415Z",
     "iopub.status.busy": "2022-02-09T16:03:23.631386Z",
     "iopub.status.idle": "2022-02-09T16:03:23.638210Z",
     "shell.execute_reply": "2022-02-09T16:03:23.638763Z",
     "shell.execute_reply.started": "2022-02-09T15:46:37.073753Z"
    },
    "papermill": {
     "duration": 0.098153,
     "end_time": "2022-02-09T16:03:23.638941",
     "exception": false,
     "start_time": "2022-02-09T16:03:23.540788",
     "status": "completed"
    },
    "tags": []
   },
   "outputs": [],
   "source": [
    "train_sex = pd.get_dummies(train['Sex'], drop_first = True) #cos if one column alr have 1 and 0 there is no need for another (1 for male)\n",
    "test_sex = pd.get_dummies(train['Sex'], drop_first = True)"
   ]
  },
  {
   "cell_type": "code",
   "execution_count": 45,
   "id": "483e5cfe",
   "metadata": {
    "execution": {
     "iopub.execute_input": "2022-02-09T16:03:23.825614Z",
     "iopub.status.busy": "2022-02-09T16:03:23.824971Z",
     "iopub.status.idle": "2022-02-09T16:03:23.827513Z",
     "shell.execute_reply": "2022-02-09T16:03:23.828152Z",
     "shell.execute_reply.started": "2022-02-09T15:46:37.851628Z"
    },
    "papermill": {
     "duration": 0.101652,
     "end_time": "2022-02-09T16:03:23.828366",
     "exception": false,
     "start_time": "2022-02-09T16:03:23.726714",
     "status": "completed"
    },
    "tags": []
   },
   "outputs": [],
   "source": [
    "train_embarked = pd.get_dummies(train['Embarked'])\n",
    "test_embarked = pd.get_dummies(test['Embarked'])"
   ]
  },
  {
   "cell_type": "code",
   "execution_count": 46,
   "id": "830b56a0",
   "metadata": {
    "execution": {
     "iopub.execute_input": "2022-02-09T16:03:24.014828Z",
     "iopub.status.busy": "2022-02-09T16:03:24.012513Z",
     "iopub.status.idle": "2022-02-09T16:03:24.017998Z",
     "shell.execute_reply": "2022-02-09T16:03:24.018504Z",
     "shell.execute_reply.started": "2022-02-09T15:46:38.659859Z"
    },
    "papermill": {
     "duration": 0.098689,
     "end_time": "2022-02-09T16:03:24.018694",
     "exception": false,
     "start_time": "2022-02-09T16:03:23.920005",
     "status": "completed"
    },
    "tags": []
   },
   "outputs": [],
   "source": [
    "train_age_range = pd.get_dummies(train['age_range'])\n",
    "test_age_range = pd.get_dummies(test['age_range'])"
   ]
  },
  {
   "cell_type": "code",
   "execution_count": 47,
   "id": "96ddf9d6",
   "metadata": {
    "execution": {
     "iopub.execute_input": "2022-02-09T16:03:24.196417Z",
     "iopub.status.busy": "2022-02-09T16:03:24.195429Z",
     "iopub.status.idle": "2022-02-09T16:03:24.201620Z",
     "shell.execute_reply": "2022-02-09T16:03:24.202149Z",
     "shell.execute_reply.started": "2022-02-09T15:46:39.539271Z"
    },
    "papermill": {
     "duration": 0.096633,
     "end_time": "2022-02-09T16:03:24.202321",
     "exception": false,
     "start_time": "2022-02-09T16:03:24.105688",
     "status": "completed"
    },
    "tags": []
   },
   "outputs": [],
   "source": [
    "train_title = pd.get_dummies(train['title'])\n",
    "test_title = pd.get_dummies(test['title'])"
   ]
  },
  {
   "cell_type": "code",
   "execution_count": 48,
   "id": "9fa580c1",
   "metadata": {
    "execution": {
     "iopub.execute_input": "2022-02-09T16:03:24.379655Z",
     "iopub.status.busy": "2022-02-09T16:03:24.378674Z",
     "iopub.status.idle": "2022-02-09T16:03:24.389617Z",
     "shell.execute_reply": "2022-02-09T16:03:24.390210Z",
     "shell.execute_reply.started": "2022-02-09T15:46:40.201804Z"
    },
    "papermill": {
     "duration": 0.101386,
     "end_time": "2022-02-09T16:03:24.390382",
     "exception": false,
     "start_time": "2022-02-09T16:03:24.288996",
     "status": "completed"
    },
    "tags": []
   },
   "outputs": [],
   "source": [
    "train = pd.concat([train,train_sex,train_embarked, train_age_range, train_title], axis = 1)\n",
    "test = pd.concat([test,test_sex,test_embarked, test_age_range, test_title], axis = 1)"
   ]
  },
  {
   "cell_type": "code",
   "execution_count": 49,
   "id": "9094bc78",
   "metadata": {
    "execution": {
     "iopub.execute_input": "2022-02-09T16:03:24.568005Z",
     "iopub.status.busy": "2022-02-09T16:03:24.567023Z",
     "iopub.status.idle": "2022-02-09T16:03:24.585598Z",
     "shell.execute_reply": "2022-02-09T16:03:24.586190Z",
     "shell.execute_reply.started": "2022-02-09T15:46:40.946485Z"
    },
    "papermill": {
     "duration": 0.109162,
     "end_time": "2022-02-09T16:03:24.586364",
     "exception": false,
     "start_time": "2022-02-09T16:03:24.477202",
     "status": "completed"
    },
    "tags": []
   },
   "outputs": [
    {
     "data": {
      "text/html": [
       "<div>\n",
       "<style scoped>\n",
       "    .dataframe tbody tr th:only-of-type {\n",
       "        vertical-align: middle;\n",
       "    }\n",
       "\n",
       "    .dataframe tbody tr th {\n",
       "        vertical-align: top;\n",
       "    }\n",
       "\n",
       "    .dataframe thead th {\n",
       "        text-align: right;\n",
       "    }\n",
       "</style>\n",
       "<table border=\"1\" class=\"dataframe\">\n",
       "  <thead>\n",
       "    <tr style=\"text-align: right;\">\n",
       "      <th></th>\n",
       "      <th>PassengerId</th>\n",
       "      <th>Survived</th>\n",
       "      <th>Pclass</th>\n",
       "      <th>Name</th>\n",
       "      <th>Sex</th>\n",
       "      <th>Age</th>\n",
       "      <th>SibSp</th>\n",
       "      <th>Parch</th>\n",
       "      <th>Ticket</th>\n",
       "      <th>Fare</th>\n",
       "      <th>...</th>\n",
       "      <th>Master</th>\n",
       "      <th>Miss</th>\n",
       "      <th>Mlle</th>\n",
       "      <th>Mme</th>\n",
       "      <th>Mr</th>\n",
       "      <th>Mrs</th>\n",
       "      <th>Ms</th>\n",
       "      <th>Rev</th>\n",
       "      <th>Sir</th>\n",
       "      <th>the Countess</th>\n",
       "    </tr>\n",
       "  </thead>\n",
       "  <tbody>\n",
       "    <tr>\n",
       "      <th>0</th>\n",
       "      <td>1</td>\n",
       "      <td>0</td>\n",
       "      <td>3</td>\n",
       "      <td>Braund, Mr. Owen Harris</td>\n",
       "      <td>male</td>\n",
       "      <td>22.0</td>\n",
       "      <td>1</td>\n",
       "      <td>0</td>\n",
       "      <td>A/5 21171</td>\n",
       "      <td>7.25</td>\n",
       "      <td>...</td>\n",
       "      <td>0</td>\n",
       "      <td>0</td>\n",
       "      <td>0</td>\n",
       "      <td>0</td>\n",
       "      <td>1</td>\n",
       "      <td>0</td>\n",
       "      <td>0</td>\n",
       "      <td>0</td>\n",
       "      <td>0</td>\n",
       "      <td>0</td>\n",
       "    </tr>\n",
       "  </tbody>\n",
       "</table>\n",
       "<p>1 rows × 40 columns</p>\n",
       "</div>"
      ],
      "text/plain": [
       "   PassengerId  Survived  Pclass                     Name   Sex   Age  SibSp  \\\n",
       "0            1         0       3  Braund, Mr. Owen Harris  male  22.0      1   \n",
       "\n",
       "   Parch     Ticket  Fare  ... Master Miss Mlle  Mme  Mr  Mrs  Ms  Rev  Sir  \\\n",
       "0      0  A/5 21171  7.25  ...      0    0    0    0   1    0   0    0    0   \n",
       "\n",
       "   the Countess  \n",
       "0             0  \n",
       "\n",
       "[1 rows x 40 columns]"
      ]
     },
     "execution_count": 49,
     "metadata": {},
     "output_type": "execute_result"
    }
   ],
   "source": [
    "train.head(1)"
   ]
  },
  {
   "cell_type": "markdown",
   "id": "3d39011c",
   "metadata": {
    "papermill": {
     "duration": 0.088474,
     "end_time": "2022-02-09T16:03:24.762522",
     "exception": false,
     "start_time": "2022-02-09T16:03:24.674048",
     "status": "completed"
    },
    "tags": []
   },
   "source": [
    "## Clean data for modeling"
   ]
  },
  {
   "cell_type": "code",
   "execution_count": 50,
   "id": "8a97978b",
   "metadata": {
    "execution": {
     "iopub.execute_input": "2022-02-09T16:03:24.944488Z",
     "iopub.status.busy": "2022-02-09T16:03:24.943840Z",
     "iopub.status.idle": "2022-02-09T16:03:24.946489Z",
     "shell.execute_reply": "2022-02-09T16:03:24.946025Z",
     "shell.execute_reply.started": "2022-02-09T15:46:43.490545Z"
    },
    "papermill": {
     "duration": 0.096595,
     "end_time": "2022-02-09T16:03:24.946644",
     "exception": false,
     "start_time": "2022-02-09T16:03:24.850049",
     "status": "completed"
    },
    "tags": []
   },
   "outputs": [],
   "source": [
    "#Multicollinearity is instance where some columns are perfect predictors of other columns\n",
    "#reduces the precision of the estimated coefficients, \n",
    "#which weakens the statistical power of your regression model. \n",
    "#You might not be able to trust the p-values to identify independent variables that are statistically significant.\n",
    "\n",
    "#hence need to drop columns with multicollinearity\n",
    "#in this case - sex"
   ]
  },
  {
   "cell_type": "code",
   "execution_count": 51,
   "id": "fc71a689",
   "metadata": {
    "execution": {
     "iopub.execute_input": "2022-02-09T16:03:25.131901Z",
     "iopub.status.busy": "2022-02-09T16:03:25.130220Z",
     "iopub.status.idle": "2022-02-09T16:03:25.135378Z",
     "shell.execute_reply": "2022-02-09T16:03:25.135888Z",
     "shell.execute_reply.started": "2022-02-09T15:46:44.139307Z"
    },
    "papermill": {
     "duration": 0.100976,
     "end_time": "2022-02-09T16:03:25.136066",
     "exception": false,
     "start_time": "2022-02-09T16:03:25.035090",
     "status": "completed"
    },
    "tags": []
   },
   "outputs": [],
   "source": [
    "train.drop(['Name', 'Sex', 'Embarked', 'Ticket', 'title', 'age_range','Fare'], inplace = True, axis =1)\n",
    "test.drop(['Name', 'Sex', 'Embarked', 'Ticket', 'title', 'age_range','Fare'], inplace = True, axis =1)"
   ]
  },
  {
   "cell_type": "code",
   "execution_count": 52,
   "id": "2da841c7",
   "metadata": {
    "execution": {
     "iopub.execute_input": "2022-02-09T16:03:25.315618Z",
     "iopub.status.busy": "2022-02-09T16:03:25.314952Z",
     "iopub.status.idle": "2022-02-09T16:03:25.333642Z",
     "shell.execute_reply": "2022-02-09T16:03:25.333094Z",
     "shell.execute_reply.started": "2022-02-09T15:46:45.163758Z"
    },
    "papermill": {
     "duration": 0.110065,
     "end_time": "2022-02-09T16:03:25.333792",
     "exception": false,
     "start_time": "2022-02-09T16:03:25.223727",
     "status": "completed"
    },
    "tags": []
   },
   "outputs": [
    {
     "data": {
      "text/html": [
       "<div>\n",
       "<style scoped>\n",
       "    .dataframe tbody tr th:only-of-type {\n",
       "        vertical-align: middle;\n",
       "    }\n",
       "\n",
       "    .dataframe tbody tr th {\n",
       "        vertical-align: top;\n",
       "    }\n",
       "\n",
       "    .dataframe thead th {\n",
       "        text-align: right;\n",
       "    }\n",
       "</style>\n",
       "<table border=\"1\" class=\"dataframe\">\n",
       "  <thead>\n",
       "    <tr style=\"text-align: right;\">\n",
       "      <th></th>\n",
       "      <th>PassengerId</th>\n",
       "      <th>Survived</th>\n",
       "      <th>Pclass</th>\n",
       "      <th>Age</th>\n",
       "      <th>SibSp</th>\n",
       "      <th>Parch</th>\n",
       "      <th>male</th>\n",
       "      <th>C</th>\n",
       "      <th>Q</th>\n",
       "      <th>S</th>\n",
       "      <th>...</th>\n",
       "      <th>Master</th>\n",
       "      <th>Miss</th>\n",
       "      <th>Mlle</th>\n",
       "      <th>Mme</th>\n",
       "      <th>Mr</th>\n",
       "      <th>Mrs</th>\n",
       "      <th>Ms</th>\n",
       "      <th>Rev</th>\n",
       "      <th>Sir</th>\n",
       "      <th>the Countess</th>\n",
       "    </tr>\n",
       "  </thead>\n",
       "  <tbody>\n",
       "    <tr>\n",
       "      <th>0</th>\n",
       "      <td>1</td>\n",
       "      <td>0</td>\n",
       "      <td>3</td>\n",
       "      <td>22.0</td>\n",
       "      <td>1</td>\n",
       "      <td>0</td>\n",
       "      <td>1</td>\n",
       "      <td>0</td>\n",
       "      <td>0</td>\n",
       "      <td>1</td>\n",
       "      <td>...</td>\n",
       "      <td>0</td>\n",
       "      <td>0</td>\n",
       "      <td>0</td>\n",
       "      <td>0</td>\n",
       "      <td>1</td>\n",
       "      <td>0</td>\n",
       "      <td>0</td>\n",
       "      <td>0</td>\n",
       "      <td>0</td>\n",
       "      <td>0</td>\n",
       "    </tr>\n",
       "    <tr>\n",
       "      <th>1</th>\n",
       "      <td>2</td>\n",
       "      <td>1</td>\n",
       "      <td>1</td>\n",
       "      <td>38.0</td>\n",
       "      <td>1</td>\n",
       "      <td>0</td>\n",
       "      <td>0</td>\n",
       "      <td>1</td>\n",
       "      <td>0</td>\n",
       "      <td>0</td>\n",
       "      <td>...</td>\n",
       "      <td>0</td>\n",
       "      <td>0</td>\n",
       "      <td>0</td>\n",
       "      <td>0</td>\n",
       "      <td>0</td>\n",
       "      <td>1</td>\n",
       "      <td>0</td>\n",
       "      <td>0</td>\n",
       "      <td>0</td>\n",
       "      <td>0</td>\n",
       "    </tr>\n",
       "    <tr>\n",
       "      <th>2</th>\n",
       "      <td>3</td>\n",
       "      <td>1</td>\n",
       "      <td>3</td>\n",
       "      <td>26.0</td>\n",
       "      <td>0</td>\n",
       "      <td>0</td>\n",
       "      <td>0</td>\n",
       "      <td>0</td>\n",
       "      <td>0</td>\n",
       "      <td>1</td>\n",
       "      <td>...</td>\n",
       "      <td>0</td>\n",
       "      <td>1</td>\n",
       "      <td>0</td>\n",
       "      <td>0</td>\n",
       "      <td>0</td>\n",
       "      <td>0</td>\n",
       "      <td>0</td>\n",
       "      <td>0</td>\n",
       "      <td>0</td>\n",
       "      <td>0</td>\n",
       "    </tr>\n",
       "    <tr>\n",
       "      <th>3</th>\n",
       "      <td>4</td>\n",
       "      <td>1</td>\n",
       "      <td>1</td>\n",
       "      <td>35.0</td>\n",
       "      <td>1</td>\n",
       "      <td>0</td>\n",
       "      <td>0</td>\n",
       "      <td>0</td>\n",
       "      <td>0</td>\n",
       "      <td>1</td>\n",
       "      <td>...</td>\n",
       "      <td>0</td>\n",
       "      <td>0</td>\n",
       "      <td>0</td>\n",
       "      <td>0</td>\n",
       "      <td>0</td>\n",
       "      <td>1</td>\n",
       "      <td>0</td>\n",
       "      <td>0</td>\n",
       "      <td>0</td>\n",
       "      <td>0</td>\n",
       "    </tr>\n",
       "    <tr>\n",
       "      <th>4</th>\n",
       "      <td>5</td>\n",
       "      <td>0</td>\n",
       "      <td>3</td>\n",
       "      <td>35.0</td>\n",
       "      <td>0</td>\n",
       "      <td>0</td>\n",
       "      <td>1</td>\n",
       "      <td>0</td>\n",
       "      <td>0</td>\n",
       "      <td>1</td>\n",
       "      <td>...</td>\n",
       "      <td>0</td>\n",
       "      <td>0</td>\n",
       "      <td>0</td>\n",
       "      <td>0</td>\n",
       "      <td>1</td>\n",
       "      <td>0</td>\n",
       "      <td>0</td>\n",
       "      <td>0</td>\n",
       "      <td>0</td>\n",
       "      <td>0</td>\n",
       "    </tr>\n",
       "  </tbody>\n",
       "</table>\n",
       "<p>5 rows × 33 columns</p>\n",
       "</div>"
      ],
      "text/plain": [
       "   PassengerId  Survived  Pclass   Age  SibSp  Parch  male  C  Q  S  ...  \\\n",
       "0            1         0       3  22.0      1      0     1  0  0  1  ...   \n",
       "1            2         1       1  38.0      1      0     0  1  0  0  ...   \n",
       "2            3         1       3  26.0      0      0     0  0  0  1  ...   \n",
       "3            4         1       1  35.0      1      0     0  0  0  1  ...   \n",
       "4            5         0       3  35.0      0      0     1  0  0  1  ...   \n",
       "\n",
       "   Master  Miss  Mlle  Mme  Mr  Mrs  Ms  Rev  Sir  the Countess  \n",
       "0       0     0     0    0   1    0   0    0    0             0  \n",
       "1       0     0     0    0   0    1   0    0    0             0  \n",
       "2       0     1     0    0   0    0   0    0    0             0  \n",
       "3       0     0     0    0   0    1   0    0    0             0  \n",
       "4       0     0     0    0   1    0   0    0    0             0  \n",
       "\n",
       "[5 rows x 33 columns]"
      ]
     },
     "execution_count": 52,
     "metadata": {},
     "output_type": "execute_result"
    }
   ],
   "source": [
    "train.head()"
   ]
  },
  {
   "cell_type": "code",
   "execution_count": 53,
   "id": "4148f95d",
   "metadata": {
    "execution": {
     "iopub.execute_input": "2022-02-09T16:03:25.516453Z",
     "iopub.status.busy": "2022-02-09T16:03:25.515821Z",
     "iopub.status.idle": "2022-02-09T16:03:25.547351Z",
     "shell.execute_reply": "2022-02-09T16:03:25.547921Z",
     "shell.execute_reply.started": "2022-02-09T15:46:46.052849Z"
    },
    "papermill": {
     "duration": 0.124337,
     "end_time": "2022-02-09T16:03:25.548096",
     "exception": false,
     "start_time": "2022-02-09T16:03:25.423759",
     "status": "completed"
    },
    "tags": []
   },
   "outputs": [
    {
     "data": {
      "text/html": [
       "<div>\n",
       "<style scoped>\n",
       "    .dataframe tbody tr th:only-of-type {\n",
       "        vertical-align: middle;\n",
       "    }\n",
       "\n",
       "    .dataframe tbody tr th {\n",
       "        vertical-align: top;\n",
       "    }\n",
       "\n",
       "    .dataframe thead th {\n",
       "        text-align: right;\n",
       "    }\n",
       "</style>\n",
       "<table border=\"1\" class=\"dataframe\">\n",
       "  <thead>\n",
       "    <tr style=\"text-align: right;\">\n",
       "      <th></th>\n",
       "      <th>PassengerId</th>\n",
       "      <th>Pclass</th>\n",
       "      <th>Age</th>\n",
       "      <th>SibSp</th>\n",
       "      <th>Parch</th>\n",
       "      <th>male</th>\n",
       "      <th>C</th>\n",
       "      <th>Q</th>\n",
       "      <th>S</th>\n",
       "      <th>18-29</th>\n",
       "      <th>...</th>\n",
       "      <th>70+</th>\n",
       "      <th>Col</th>\n",
       "      <th>Dona</th>\n",
       "      <th>Dr</th>\n",
       "      <th>Master</th>\n",
       "      <th>Miss</th>\n",
       "      <th>Mr</th>\n",
       "      <th>Mrs</th>\n",
       "      <th>Ms</th>\n",
       "      <th>Rev</th>\n",
       "    </tr>\n",
       "  </thead>\n",
       "  <tbody>\n",
       "    <tr>\n",
       "      <th>0</th>\n",
       "      <td>892.0</td>\n",
       "      <td>3.0</td>\n",
       "      <td>34.5</td>\n",
       "      <td>0.0</td>\n",
       "      <td>0.0</td>\n",
       "      <td>1</td>\n",
       "      <td>0.0</td>\n",
       "      <td>1.0</td>\n",
       "      <td>0.0</td>\n",
       "      <td>0.0</td>\n",
       "      <td>...</td>\n",
       "      <td>0.0</td>\n",
       "      <td>0.0</td>\n",
       "      <td>0.0</td>\n",
       "      <td>0.0</td>\n",
       "      <td>0.0</td>\n",
       "      <td>0.0</td>\n",
       "      <td>1.0</td>\n",
       "      <td>0.0</td>\n",
       "      <td>0.0</td>\n",
       "      <td>0.0</td>\n",
       "    </tr>\n",
       "    <tr>\n",
       "      <th>1</th>\n",
       "      <td>893.0</td>\n",
       "      <td>3.0</td>\n",
       "      <td>47.0</td>\n",
       "      <td>1.0</td>\n",
       "      <td>0.0</td>\n",
       "      <td>0</td>\n",
       "      <td>0.0</td>\n",
       "      <td>0.0</td>\n",
       "      <td>1.0</td>\n",
       "      <td>0.0</td>\n",
       "      <td>...</td>\n",
       "      <td>0.0</td>\n",
       "      <td>0.0</td>\n",
       "      <td>0.0</td>\n",
       "      <td>0.0</td>\n",
       "      <td>0.0</td>\n",
       "      <td>0.0</td>\n",
       "      <td>0.0</td>\n",
       "      <td>1.0</td>\n",
       "      <td>0.0</td>\n",
       "      <td>0.0</td>\n",
       "    </tr>\n",
       "    <tr>\n",
       "      <th>2</th>\n",
       "      <td>894.0</td>\n",
       "      <td>2.0</td>\n",
       "      <td>62.0</td>\n",
       "      <td>0.0</td>\n",
       "      <td>0.0</td>\n",
       "      <td>0</td>\n",
       "      <td>0.0</td>\n",
       "      <td>1.0</td>\n",
       "      <td>0.0</td>\n",
       "      <td>0.0</td>\n",
       "      <td>...</td>\n",
       "      <td>0.0</td>\n",
       "      <td>0.0</td>\n",
       "      <td>0.0</td>\n",
       "      <td>0.0</td>\n",
       "      <td>0.0</td>\n",
       "      <td>0.0</td>\n",
       "      <td>1.0</td>\n",
       "      <td>0.0</td>\n",
       "      <td>0.0</td>\n",
       "      <td>0.0</td>\n",
       "    </tr>\n",
       "    <tr>\n",
       "      <th>3</th>\n",
       "      <td>895.0</td>\n",
       "      <td>3.0</td>\n",
       "      <td>27.0</td>\n",
       "      <td>0.0</td>\n",
       "      <td>0.0</td>\n",
       "      <td>0</td>\n",
       "      <td>0.0</td>\n",
       "      <td>0.0</td>\n",
       "      <td>1.0</td>\n",
       "      <td>1.0</td>\n",
       "      <td>...</td>\n",
       "      <td>0.0</td>\n",
       "      <td>0.0</td>\n",
       "      <td>0.0</td>\n",
       "      <td>0.0</td>\n",
       "      <td>0.0</td>\n",
       "      <td>0.0</td>\n",
       "      <td>1.0</td>\n",
       "      <td>0.0</td>\n",
       "      <td>0.0</td>\n",
       "      <td>0.0</td>\n",
       "    </tr>\n",
       "    <tr>\n",
       "      <th>4</th>\n",
       "      <td>896.0</td>\n",
       "      <td>3.0</td>\n",
       "      <td>22.0</td>\n",
       "      <td>1.0</td>\n",
       "      <td>1.0</td>\n",
       "      <td>1</td>\n",
       "      <td>0.0</td>\n",
       "      <td>0.0</td>\n",
       "      <td>1.0</td>\n",
       "      <td>1.0</td>\n",
       "      <td>...</td>\n",
       "      <td>0.0</td>\n",
       "      <td>0.0</td>\n",
       "      <td>0.0</td>\n",
       "      <td>0.0</td>\n",
       "      <td>0.0</td>\n",
       "      <td>0.0</td>\n",
       "      <td>0.0</td>\n",
       "      <td>1.0</td>\n",
       "      <td>0.0</td>\n",
       "      <td>0.0</td>\n",
       "    </tr>\n",
       "  </tbody>\n",
       "</table>\n",
       "<p>5 rows × 24 columns</p>\n",
       "</div>"
      ],
      "text/plain": [
       "   PassengerId  Pclass   Age  SibSp  Parch  male    C    Q    S  18-29  ...  \\\n",
       "0        892.0     3.0  34.5    0.0    0.0     1  0.0  1.0  0.0    0.0  ...   \n",
       "1        893.0     3.0  47.0    1.0    0.0     0  0.0  0.0  1.0    0.0  ...   \n",
       "2        894.0     2.0  62.0    0.0    0.0     0  0.0  1.0  0.0    0.0  ...   \n",
       "3        895.0     3.0  27.0    0.0    0.0     0  0.0  0.0  1.0    1.0  ...   \n",
       "4        896.0     3.0  22.0    1.0    1.0     1  0.0  0.0  1.0    1.0  ...   \n",
       "\n",
       "   70+  Col  Dona   Dr  Master  Miss   Mr  Mrs   Ms  Rev  \n",
       "0  0.0  0.0   0.0  0.0     0.0   0.0  1.0  0.0  0.0  0.0  \n",
       "1  0.0  0.0   0.0  0.0     0.0   0.0  0.0  1.0  0.0  0.0  \n",
       "2  0.0  0.0   0.0  0.0     0.0   0.0  1.0  0.0  0.0  0.0  \n",
       "3  0.0  0.0   0.0  0.0     0.0   0.0  1.0  0.0  0.0  0.0  \n",
       "4  0.0  0.0   0.0  0.0     0.0   0.0  0.0  1.0  0.0  0.0  \n",
       "\n",
       "[5 rows x 24 columns]"
      ]
     },
     "execution_count": 53,
     "metadata": {},
     "output_type": "execute_result"
    }
   ],
   "source": [
    "test.head()"
   ]
  },
  {
   "cell_type": "markdown",
   "id": "795a7494",
   "metadata": {
    "papermill": {
     "duration": 0.08827,
     "end_time": "2022-02-09T16:03:25.724857",
     "exception": false,
     "start_time": "2022-02-09T16:03:25.636587",
     "status": "completed"
    },
    "tags": []
   },
   "source": [
    "## Applying log regression"
   ]
  },
  {
   "cell_type": "code",
   "execution_count": 54,
   "id": "7f52ad54",
   "metadata": {
    "execution": {
     "iopub.execute_input": "2022-02-09T16:03:25.910324Z",
     "iopub.status.busy": "2022-02-09T16:03:25.909294Z",
     "iopub.status.idle": "2022-02-09T16:03:25.914019Z",
     "shell.execute_reply": "2022-02-09T16:03:25.914608Z",
     "shell.execute_reply.started": "2022-02-09T15:46:47.882018Z"
    },
    "papermill": {
     "duration": 0.099639,
     "end_time": "2022-02-09T16:03:25.914813",
     "exception": false,
     "start_time": "2022-02-09T16:03:25.815174",
     "status": "completed"
    },
    "tags": []
   },
   "outputs": [],
   "source": [
    "train['Dona'] = 0 #adding this here becos it is a title present in test set that's missing from train set"
   ]
  },
  {
   "cell_type": "code",
   "execution_count": 55,
   "id": "a7b4b946",
   "metadata": {
    "execution": {
     "iopub.execute_input": "2022-02-09T16:03:26.098361Z",
     "iopub.status.busy": "2022-02-09T16:03:26.097320Z",
     "iopub.status.idle": "2022-02-09T16:03:26.102992Z",
     "shell.execute_reply": "2022-02-09T16:03:26.103585Z",
     "shell.execute_reply.started": "2022-02-09T15:46:48.619413Z"
    },
    "papermill": {
     "duration": 0.099011,
     "end_time": "2022-02-09T16:03:26.103774",
     "exception": false,
     "start_time": "2022-02-09T16:03:26.004763",
     "status": "completed"
    },
    "tags": []
   },
   "outputs": [],
   "source": [
    "x = train.drop('Survived', axis = 1) #remove the independent variable so to train model\n",
    "y = train['Survived'] #independent variable"
   ]
  },
  {
   "cell_type": "code",
   "execution_count": 56,
   "id": "ff151a12",
   "metadata": {
    "execution": {
     "iopub.execute_input": "2022-02-09T16:03:26.284133Z",
     "iopub.status.busy": "2022-02-09T16:03:26.283085Z",
     "iopub.status.idle": "2022-02-09T16:03:26.464194Z",
     "shell.execute_reply": "2022-02-09T16:03:26.463581Z",
     "shell.execute_reply.started": "2022-02-09T15:46:49.296200Z"
    },
    "papermill": {
     "duration": 0.272509,
     "end_time": "2022-02-09T16:03:26.464350",
     "exception": false,
     "start_time": "2022-02-09T16:03:26.191841",
     "status": "completed"
    },
    "tags": []
   },
   "outputs": [],
   "source": [
    "from sklearn.model_selection import train_test_split\n",
    "x_train, x_test, y_train, y_test = train_test_split(x, y, test_size=0.30, random_state=101)"
   ]
  },
  {
   "cell_type": "code",
   "execution_count": 57,
   "id": "cdf1f507",
   "metadata": {
    "execution": {
     "iopub.execute_input": "2022-02-09T16:03:26.645600Z",
     "iopub.status.busy": "2022-02-09T16:03:26.644589Z",
     "iopub.status.idle": "2022-02-09T16:03:26.730343Z",
     "shell.execute_reply": "2022-02-09T16:03:26.729736Z",
     "shell.execute_reply.started": "2022-02-09T15:46:50.022561Z"
    },
    "papermill": {
     "duration": 0.177389,
     "end_time": "2022-02-09T16:03:26.730480",
     "exception": false,
     "start_time": "2022-02-09T16:03:26.553091",
     "status": "completed"
    },
    "tags": []
   },
   "outputs": [],
   "source": [
    "from sklearn.linear_model import LogisticRegression"
   ]
  },
  {
   "cell_type": "code",
   "execution_count": 58,
   "id": "a60ed64b",
   "metadata": {
    "execution": {
     "iopub.execute_input": "2022-02-09T16:03:26.915400Z",
     "iopub.status.busy": "2022-02-09T16:03:26.914362Z",
     "iopub.status.idle": "2022-02-09T16:03:26.916215Z",
     "shell.execute_reply": "2022-02-09T16:03:26.916872Z",
     "shell.execute_reply.started": "2022-02-09T15:46:50.581604Z"
    },
    "papermill": {
     "duration": 0.096298,
     "end_time": "2022-02-09T16:03:26.917049",
     "exception": false,
     "start_time": "2022-02-09T16:03:26.820751",
     "status": "completed"
    },
    "scrolled": true,
    "tags": []
   },
   "outputs": [],
   "source": [
    "logmodel = LogisticRegression(solver='liblinear')"
   ]
  },
  {
   "cell_type": "code",
   "execution_count": 59,
   "id": "c8baba5a",
   "metadata": {
    "execution": {
     "iopub.execute_input": "2022-02-09T16:03:27.099721Z",
     "iopub.status.busy": "2022-02-09T16:03:27.098731Z",
     "iopub.status.idle": "2022-02-09T16:03:27.112150Z",
     "shell.execute_reply": "2022-02-09T16:03:27.112750Z",
     "shell.execute_reply.started": "2022-02-09T15:46:51.236206Z"
    },
    "papermill": {
     "duration": 0.10647,
     "end_time": "2022-02-09T16:03:27.112929",
     "exception": false,
     "start_time": "2022-02-09T16:03:27.006459",
     "status": "completed"
    },
    "tags": []
   },
   "outputs": [
    {
     "data": {
      "text/plain": [
       "LogisticRegression(solver='liblinear')"
      ]
     },
     "execution_count": 59,
     "metadata": {},
     "output_type": "execute_result"
    }
   ],
   "source": [
    "logmodel.fit(x_train,y_train)"
   ]
  },
  {
   "cell_type": "code",
   "execution_count": 60,
   "id": "1c680c1c",
   "metadata": {
    "execution": {
     "iopub.execute_input": "2022-02-09T16:03:27.295774Z",
     "iopub.status.busy": "2022-02-09T16:03:27.294812Z",
     "iopub.status.idle": "2022-02-09T16:03:27.301008Z",
     "shell.execute_reply": "2022-02-09T16:03:27.301563Z",
     "shell.execute_reply.started": "2022-02-09T15:46:51.989210Z"
    },
    "papermill": {
     "duration": 0.099238,
     "end_time": "2022-02-09T16:03:27.301752",
     "exception": false,
     "start_time": "2022-02-09T16:03:27.202514",
     "status": "completed"
    },
    "tags": []
   },
   "outputs": [],
   "source": [
    "predictions = logmodel.predict(x_test)"
   ]
  },
  {
   "cell_type": "code",
   "execution_count": 61,
   "id": "f6b9a7fe",
   "metadata": {
    "execution": {
     "iopub.execute_input": "2022-02-09T16:03:27.483127Z",
     "iopub.status.busy": "2022-02-09T16:03:27.482158Z",
     "iopub.status.idle": "2022-02-09T16:03:27.488267Z",
     "shell.execute_reply": "2022-02-09T16:03:27.488883Z",
     "shell.execute_reply.started": "2022-02-09T15:46:52.711483Z"
    },
    "papermill": {
     "duration": 0.098331,
     "end_time": "2022-02-09T16:03:27.489051",
     "exception": false,
     "start_time": "2022-02-09T16:03:27.390720",
     "status": "completed"
    },
    "tags": []
   },
   "outputs": [
    {
     "data": {
      "text/plain": [
       "0.832089552238806"
      ]
     },
     "execution_count": 61,
     "metadata": {},
     "output_type": "execute_result"
    }
   ],
   "source": [
    "from sklearn.metrics import accuracy_score\n",
    "accuracy_score(y_test,predictions)"
   ]
  },
  {
   "cell_type": "code",
   "execution_count": 62,
   "id": "f4618805",
   "metadata": {
    "execution": {
     "iopub.execute_input": "2022-02-09T16:03:27.671260Z",
     "iopub.status.busy": "2022-02-09T16:03:27.670269Z",
     "iopub.status.idle": "2022-02-09T16:03:27.674030Z",
     "shell.execute_reply": "2022-02-09T16:03:27.674579Z",
     "shell.execute_reply.started": "2022-02-09T15:46:53.483868Z"
    },
    "papermill": {
     "duration": 0.096684,
     "end_time": "2022-02-09T16:03:27.674767",
     "exception": false,
     "start_time": "2022-02-09T16:03:27.578083",
     "status": "completed"
    },
    "tags": []
   },
   "outputs": [],
   "source": [
    "from sklearn.metrics import classification_report"
   ]
  },
  {
   "cell_type": "code",
   "execution_count": 63,
   "id": "9bedce66",
   "metadata": {
    "execution": {
     "iopub.execute_input": "2022-02-09T16:03:27.858696Z",
     "iopub.status.busy": "2022-02-09T16:03:27.857714Z",
     "iopub.status.idle": "2022-02-09T16:03:27.867536Z",
     "shell.execute_reply": "2022-02-09T16:03:27.868197Z",
     "shell.execute_reply.started": "2022-02-09T15:46:54.321808Z"
    },
    "papermill": {
     "duration": 0.104884,
     "end_time": "2022-02-09T16:03:27.868380",
     "exception": false,
     "start_time": "2022-02-09T16:03:27.763496",
     "status": "completed"
    },
    "tags": []
   },
   "outputs": [
    {
     "name": "stdout",
     "output_type": "stream",
     "text": [
      "              precision    recall  f1-score   support\n",
      "\n",
      "           0       0.82      0.91      0.86       154\n",
      "           1       0.86      0.73      0.79       114\n",
      "\n",
      "    accuracy                           0.83       268\n",
      "   macro avg       0.84      0.82      0.82       268\n",
      "weighted avg       0.83      0.83      0.83       268\n",
      "\n"
     ]
    }
   ],
   "source": [
    "print(classification_report(y_test,predictions))"
   ]
  },
  {
   "cell_type": "code",
   "execution_count": 64,
   "id": "59afbd18",
   "metadata": {
    "execution": {
     "iopub.execute_input": "2022-02-09T16:03:28.053541Z",
     "iopub.status.busy": "2022-02-09T16:03:28.052551Z",
     "iopub.status.idle": "2022-02-09T16:03:28.060145Z",
     "shell.execute_reply": "2022-02-09T16:03:28.060768Z",
     "shell.execute_reply.started": "2022-02-09T15:46:55.061398Z"
    },
    "papermill": {
     "duration": 0.103362,
     "end_time": "2022-02-09T16:03:28.060955",
     "exception": false,
     "start_time": "2022-02-09T16:03:27.957593",
     "status": "completed"
    },
    "scrolled": true,
    "tags": []
   },
   "outputs": [
    {
     "data": {
      "text/plain": [
       "True"
      ]
     },
     "execution_count": 64,
     "metadata": {},
     "output_type": "execute_result"
    }
   ],
   "source": [
    "np.any(np.isnan(test))"
   ]
  },
  {
   "cell_type": "code",
   "execution_count": 65,
   "id": "7b789fb4",
   "metadata": {
    "execution": {
     "iopub.execute_input": "2022-02-09T16:03:28.245004Z",
     "iopub.status.busy": "2022-02-09T16:03:28.244023Z",
     "iopub.status.idle": "2022-02-09T16:03:28.251227Z",
     "shell.execute_reply": "2022-02-09T16:03:28.251827Z",
     "shell.execute_reply.started": "2022-02-09T15:46:55.846193Z"
    },
    "papermill": {
     "duration": 0.100806,
     "end_time": "2022-02-09T16:03:28.252009",
     "exception": false,
     "start_time": "2022-02-09T16:03:28.151203",
     "status": "completed"
    },
    "scrolled": true,
    "tags": []
   },
   "outputs": [
    {
     "data": {
      "text/plain": [
       "False"
      ]
     },
     "execution_count": 65,
     "metadata": {},
     "output_type": "execute_result"
    }
   ],
   "source": [
    "np.all(np.isfinite(test))\n"
   ]
  },
  {
   "cell_type": "code",
   "execution_count": 66,
   "id": "f5dcc3a4",
   "metadata": {
    "execution": {
     "iopub.execute_input": "2022-02-09T16:03:28.436290Z",
     "iopub.status.busy": "2022-02-09T16:03:28.435301Z",
     "iopub.status.idle": "2022-02-09T16:03:28.440668Z",
     "shell.execute_reply": "2022-02-09T16:03:28.441287Z",
     "shell.execute_reply.started": "2022-02-09T15:46:56.542347Z"
    },
    "papermill": {
     "duration": 0.099373,
     "end_time": "2022-02-09T16:03:28.441462",
     "exception": false,
     "start_time": "2022-02-09T16:03:28.342089",
     "status": "completed"
    },
    "tags": []
   },
   "outputs": [
    {
     "data": {
      "text/plain": [
       "(891, 24)"
      ]
     },
     "execution_count": 66,
     "metadata": {},
     "output_type": "execute_result"
    }
   ],
   "source": [
    "test.shape \n",
    "\n",
    "#ran into an issue where i cant use trained model on my test dataset cos my pd.get dummies\n",
    "#resulted in making nan rows which caused errors"
   ]
  },
  {
   "cell_type": "code",
   "execution_count": 67,
   "id": "dd9b384d",
   "metadata": {
    "execution": {
     "iopub.execute_input": "2022-02-09T16:03:28.626668Z",
     "iopub.status.busy": "2022-02-09T16:03:28.625692Z",
     "iopub.status.idle": "2022-02-09T16:03:28.630992Z",
     "shell.execute_reply": "2022-02-09T16:03:28.631561Z",
     "shell.execute_reply.started": "2022-02-09T15:46:57.248373Z"
    },
    "papermill": {
     "duration": 0.099615,
     "end_time": "2022-02-09T16:03:28.631750",
     "exception": false,
     "start_time": "2022-02-09T16:03:28.532135",
     "status": "completed"
    },
    "tags": []
   },
   "outputs": [
    {
     "data": {
      "text/plain": [
       "(891, 34)"
      ]
     },
     "execution_count": 67,
     "metadata": {},
     "output_type": "execute_result"
    }
   ],
   "source": [
    "train.shape"
   ]
  },
  {
   "cell_type": "code",
   "execution_count": 68,
   "id": "8aca4ccc",
   "metadata": {
    "execution": {
     "iopub.execute_input": "2022-02-09T16:03:28.819996Z",
     "iopub.status.busy": "2022-02-09T16:03:28.819000Z",
     "iopub.status.idle": "2022-02-09T16:03:28.825245Z",
     "shell.execute_reply": "2022-02-09T16:03:28.825858Z",
     "shell.execute_reply.started": "2022-02-09T15:46:57.974116Z"
    },
    "papermill": {
     "duration": 0.101352,
     "end_time": "2022-02-09T16:03:28.826039",
     "exception": false,
     "start_time": "2022-02-09T16:03:28.724687",
     "status": "completed"
    },
    "tags": []
   },
   "outputs": [],
   "source": [
    "test.dropna(inplace = True)"
   ]
  },
  {
   "cell_type": "code",
   "execution_count": 69,
   "id": "60ec7140",
   "metadata": {
    "execution": {
     "iopub.execute_input": "2022-02-09T16:03:29.015667Z",
     "iopub.status.busy": "2022-02-09T16:03:29.014656Z",
     "iopub.status.idle": "2022-02-09T16:03:29.020083Z",
     "shell.execute_reply": "2022-02-09T16:03:29.020692Z",
     "shell.execute_reply.started": "2022-02-09T15:46:58.804687Z"
    },
    "papermill": {
     "duration": 0.10085,
     "end_time": "2022-02-09T16:03:29.020883",
     "exception": false,
     "start_time": "2022-02-09T16:03:28.920033",
     "status": "completed"
    },
    "tags": []
   },
   "outputs": [
    {
     "data": {
      "text/plain": [
       "(418, 24)"
      ]
     },
     "execution_count": 69,
     "metadata": {},
     "output_type": "execute_result"
    }
   ],
   "source": [
    "test.shape"
   ]
  },
  {
   "cell_type": "code",
   "execution_count": 70,
   "id": "967d4e17",
   "metadata": {
    "execution": {
     "iopub.execute_input": "2022-02-09T16:03:29.208350Z",
     "iopub.status.busy": "2022-02-09T16:03:29.207324Z",
     "iopub.status.idle": "2022-02-09T16:03:29.230662Z",
     "shell.execute_reply": "2022-02-09T16:03:29.231220Z",
     "shell.execute_reply.started": "2022-02-09T15:46:59.443676Z"
    },
    "papermill": {
     "duration": 0.118495,
     "end_time": "2022-02-09T16:03:29.231393",
     "exception": false,
     "start_time": "2022-02-09T16:03:29.112898",
     "status": "completed"
    },
    "tags": []
   },
   "outputs": [
    {
     "data": {
      "text/html": [
       "<div>\n",
       "<style scoped>\n",
       "    .dataframe tbody tr th:only-of-type {\n",
       "        vertical-align: middle;\n",
       "    }\n",
       "\n",
       "    .dataframe tbody tr th {\n",
       "        vertical-align: top;\n",
       "    }\n",
       "\n",
       "    .dataframe thead th {\n",
       "        text-align: right;\n",
       "    }\n",
       "</style>\n",
       "<table border=\"1\" class=\"dataframe\">\n",
       "  <thead>\n",
       "    <tr style=\"text-align: right;\">\n",
       "      <th></th>\n",
       "      <th>PassengerId</th>\n",
       "      <th>Pclass</th>\n",
       "      <th>Age</th>\n",
       "      <th>SibSp</th>\n",
       "      <th>Parch</th>\n",
       "      <th>male</th>\n",
       "      <th>C</th>\n",
       "      <th>Q</th>\n",
       "      <th>S</th>\n",
       "      <th>18-29</th>\n",
       "      <th>...</th>\n",
       "      <th>70+</th>\n",
       "      <th>Col</th>\n",
       "      <th>Dona</th>\n",
       "      <th>Dr</th>\n",
       "      <th>Master</th>\n",
       "      <th>Miss</th>\n",
       "      <th>Mr</th>\n",
       "      <th>Mrs</th>\n",
       "      <th>Ms</th>\n",
       "      <th>Rev</th>\n",
       "    </tr>\n",
       "  </thead>\n",
       "  <tbody>\n",
       "    <tr>\n",
       "      <th>0</th>\n",
       "      <td>892.0</td>\n",
       "      <td>3.0</td>\n",
       "      <td>34.5</td>\n",
       "      <td>0.0</td>\n",
       "      <td>0.0</td>\n",
       "      <td>1</td>\n",
       "      <td>0.0</td>\n",
       "      <td>1.0</td>\n",
       "      <td>0.0</td>\n",
       "      <td>0.0</td>\n",
       "      <td>...</td>\n",
       "      <td>0.0</td>\n",
       "      <td>0.0</td>\n",
       "      <td>0.0</td>\n",
       "      <td>0.0</td>\n",
       "      <td>0.0</td>\n",
       "      <td>0.0</td>\n",
       "      <td>1.0</td>\n",
       "      <td>0.0</td>\n",
       "      <td>0.0</td>\n",
       "      <td>0.0</td>\n",
       "    </tr>\n",
       "  </tbody>\n",
       "</table>\n",
       "<p>1 rows × 24 columns</p>\n",
       "</div>"
      ],
      "text/plain": [
       "   PassengerId  Pclass   Age  SibSp  Parch  male    C    Q    S  18-29  ...  \\\n",
       "0        892.0     3.0  34.5    0.0    0.0     1  0.0  1.0  0.0    0.0  ...   \n",
       "\n",
       "   70+  Col  Dona   Dr  Master  Miss   Mr  Mrs   Ms  Rev  \n",
       "0  0.0  0.0   0.0  0.0     0.0   0.0  1.0  0.0  0.0  0.0  \n",
       "\n",
       "[1 rows x 24 columns]"
      ]
     },
     "execution_count": 70,
     "metadata": {},
     "output_type": "execute_result"
    }
   ],
   "source": [
    "test.head(1)"
   ]
  },
  {
   "cell_type": "code",
   "execution_count": 71,
   "id": "7f1d4746",
   "metadata": {
    "execution": {
     "iopub.execute_input": "2022-02-09T16:03:29.419125Z",
     "iopub.status.busy": "2022-02-09T16:03:29.418128Z",
     "iopub.status.idle": "2022-02-09T16:03:29.436043Z",
     "shell.execute_reply": "2022-02-09T16:03:29.435359Z",
     "shell.execute_reply.started": "2022-02-09T15:47:00.185497Z"
    },
    "papermill": {
     "duration": 0.113051,
     "end_time": "2022-02-09T16:03:29.436186",
     "exception": false,
     "start_time": "2022-02-09T16:03:29.323135",
     "status": "completed"
    },
    "scrolled": true,
    "tags": []
   },
   "outputs": [
    {
     "data": {
      "text/html": [
       "<div>\n",
       "<style scoped>\n",
       "    .dataframe tbody tr th:only-of-type {\n",
       "        vertical-align: middle;\n",
       "    }\n",
       "\n",
       "    .dataframe tbody tr th {\n",
       "        vertical-align: top;\n",
       "    }\n",
       "\n",
       "    .dataframe thead th {\n",
       "        text-align: right;\n",
       "    }\n",
       "</style>\n",
       "<table border=\"1\" class=\"dataframe\">\n",
       "  <thead>\n",
       "    <tr style=\"text-align: right;\">\n",
       "      <th></th>\n",
       "      <th>PassengerId</th>\n",
       "      <th>Survived</th>\n",
       "      <th>Pclass</th>\n",
       "      <th>Age</th>\n",
       "      <th>SibSp</th>\n",
       "      <th>Parch</th>\n",
       "      <th>male</th>\n",
       "      <th>C</th>\n",
       "      <th>Q</th>\n",
       "      <th>S</th>\n",
       "      <th>...</th>\n",
       "      <th>Miss</th>\n",
       "      <th>Mlle</th>\n",
       "      <th>Mme</th>\n",
       "      <th>Mr</th>\n",
       "      <th>Mrs</th>\n",
       "      <th>Ms</th>\n",
       "      <th>Rev</th>\n",
       "      <th>Sir</th>\n",
       "      <th>the Countess</th>\n",
       "      <th>Dona</th>\n",
       "    </tr>\n",
       "  </thead>\n",
       "  <tbody>\n",
       "    <tr>\n",
       "      <th>0</th>\n",
       "      <td>1</td>\n",
       "      <td>0</td>\n",
       "      <td>3</td>\n",
       "      <td>22.0</td>\n",
       "      <td>1</td>\n",
       "      <td>0</td>\n",
       "      <td>1</td>\n",
       "      <td>0</td>\n",
       "      <td>0</td>\n",
       "      <td>1</td>\n",
       "      <td>...</td>\n",
       "      <td>0</td>\n",
       "      <td>0</td>\n",
       "      <td>0</td>\n",
       "      <td>1</td>\n",
       "      <td>0</td>\n",
       "      <td>0</td>\n",
       "      <td>0</td>\n",
       "      <td>0</td>\n",
       "      <td>0</td>\n",
       "      <td>0</td>\n",
       "    </tr>\n",
       "  </tbody>\n",
       "</table>\n",
       "<p>1 rows × 34 columns</p>\n",
       "</div>"
      ],
      "text/plain": [
       "   PassengerId  Survived  Pclass   Age  SibSp  Parch  male  C  Q  S  ...  \\\n",
       "0            1         0       3  22.0      1      0     1  0  0  1  ...   \n",
       "\n",
       "   Miss  Mlle  Mme  Mr  Mrs  Ms  Rev  Sir  the Countess  Dona  \n",
       "0     0     0    0   1    0   0    0    0             0     0  \n",
       "\n",
       "[1 rows x 34 columns]"
      ]
     },
     "execution_count": 71,
     "metadata": {},
     "output_type": "execute_result"
    }
   ],
   "source": [
    "train.head(1)"
   ]
  },
  {
   "cell_type": "code",
   "execution_count": 72,
   "id": "8ef460f6",
   "metadata": {
    "execution": {
     "iopub.execute_input": "2022-02-09T16:03:29.624952Z",
     "iopub.status.busy": "2022-02-09T16:03:29.624318Z",
     "iopub.status.idle": "2022-02-09T16:03:29.628384Z",
     "shell.execute_reply": "2022-02-09T16:03:29.627895Z",
     "shell.execute_reply.started": "2022-02-09T15:47:00.817457Z"
    },
    "papermill": {
     "duration": 0.100183,
     "end_time": "2022-02-09T16:03:29.628537",
     "exception": false,
     "start_time": "2022-02-09T16:03:29.528354",
     "status": "completed"
    },
    "tags": []
   },
   "outputs": [],
   "source": [
    "#ran into another issue where train dataset has more titles than test data set \n",
    "#hence model couldnt run due to test set having 24 features and model expecting 32 cos it was trained on 32\n",
    "#solution to add empty columns of missing titles"
   ]
  },
  {
   "cell_type": "code",
   "execution_count": 73,
   "id": "dcc677fe",
   "metadata": {
    "execution": {
     "iopub.execute_input": "2022-02-09T16:03:29.818929Z",
     "iopub.status.busy": "2022-02-09T16:03:29.818226Z",
     "iopub.status.idle": "2022-02-09T16:03:29.823289Z",
     "shell.execute_reply": "2022-02-09T16:03:29.823807Z",
     "shell.execute_reply.started": "2022-02-09T15:47:01.508699Z"
    },
    "papermill": {
     "duration": 0.102763,
     "end_time": "2022-02-09T16:03:29.823981",
     "exception": false,
     "start_time": "2022-02-09T16:03:29.721218",
     "status": "completed"
    },
    "tags": []
   },
   "outputs": [
    {
     "data": {
      "text/plain": [
       "Index(['PassengerId', 'Pclass', 'Age', 'SibSp', 'Parch', 'male', 'C', 'Q', 'S',\n",
       "       '18-29', '30-39', '40-49', '50-59', '60-69', '70+', 'Col', 'Dona', 'Dr',\n",
       "       'Master', 'Miss', 'Mr', 'Mrs', 'Ms', 'Rev'],\n",
       "      dtype='object')"
      ]
     },
     "execution_count": 73,
     "metadata": {},
     "output_type": "execute_result"
    }
   ],
   "source": [
    "test.columns"
   ]
  },
  {
   "cell_type": "code",
   "execution_count": 74,
   "id": "7fe85aee",
   "metadata": {
    "execution": {
     "iopub.execute_input": "2022-02-09T16:03:30.015852Z",
     "iopub.status.busy": "2022-02-09T16:03:30.015164Z",
     "iopub.status.idle": "2022-02-09T16:03:30.020446Z",
     "shell.execute_reply": "2022-02-09T16:03:30.020998Z",
     "shell.execute_reply.started": "2022-02-09T15:47:02.268280Z"
    },
    "papermill": {
     "duration": 0.103509,
     "end_time": "2022-02-09T16:03:30.021175",
     "exception": false,
     "start_time": "2022-02-09T16:03:29.917666",
     "status": "completed"
    },
    "tags": []
   },
   "outputs": [
    {
     "data": {
      "text/plain": [
       "Index(['PassengerId', 'Survived', 'Pclass', 'Age', 'SibSp', 'Parch', 'male',\n",
       "       'C', 'Q', 'S', '18-29', '30-39', '40-49', '50-59', '60-69', '70+',\n",
       "       'Capt', 'Col', 'Don', 'Dr', 'Jonkheer', 'Lady', 'Major', 'Master',\n",
       "       'Miss', 'Mlle', 'Mme', 'Mr', 'Mrs', 'Ms', 'Rev', 'Sir', 'the Countess',\n",
       "       'Dona'],\n",
       "      dtype='object')"
      ]
     },
     "execution_count": 74,
     "metadata": {},
     "output_type": "execute_result"
    }
   ],
   "source": [
    "train.columns"
   ]
  },
  {
   "cell_type": "code",
   "execution_count": 75,
   "id": "1ef17dc9",
   "metadata": {
    "execution": {
     "iopub.execute_input": "2022-02-09T16:03:30.211562Z",
     "iopub.status.busy": "2022-02-09T16:03:30.210918Z",
     "iopub.status.idle": "2022-02-09T16:03:30.219598Z",
     "shell.execute_reply": "2022-02-09T16:03:30.220131Z",
     "shell.execute_reply.started": "2022-02-09T15:47:02.901672Z"
    },
    "papermill": {
     "duration": 0.104783,
     "end_time": "2022-02-09T16:03:30.220304",
     "exception": false,
     "start_time": "2022-02-09T16:03:30.115521",
     "status": "completed"
    },
    "tags": []
   },
   "outputs": [],
   "source": [
    "test['Capt'] = 0\n",
    "test['Don'] = 0\n",
    "test['Jonkheer'] = 0\n",
    "test['Lady'] = 0\n",
    "test['Major'] = 0\n",
    "test['Mlle'] = 0\n",
    "test['Mme'] = 0\n",
    "test['Sir'] = 0\n",
    "test['the Countess'] = 0"
   ]
  },
  {
   "cell_type": "code",
   "execution_count": 76,
   "id": "154df5f1",
   "metadata": {
    "execution": {
     "iopub.execute_input": "2022-02-09T16:03:30.409206Z",
     "iopub.status.busy": "2022-02-09T16:03:30.408545Z",
     "iopub.status.idle": "2022-02-09T16:03:30.424845Z",
     "shell.execute_reply": "2022-02-09T16:03:30.425775Z",
     "shell.execute_reply.started": "2022-02-09T15:59:18.901047Z"
    },
    "papermill": {
     "duration": 0.112864,
     "end_time": "2022-02-09T16:03:30.426067",
     "exception": false,
     "start_time": "2022-02-09T16:03:30.313203",
     "status": "completed"
    },
    "scrolled": true,
    "tags": []
   },
   "outputs": [],
   "source": [
    "test_preds = logmodel.predict(test)"
   ]
  },
  {
   "cell_type": "code",
   "execution_count": 77,
   "id": "f230f92a",
   "metadata": {
    "execution": {
     "iopub.execute_input": "2022-02-09T16:03:30.666980Z",
     "iopub.status.busy": "2022-02-09T16:03:30.666337Z",
     "iopub.status.idle": "2022-02-09T16:03:30.669309Z",
     "shell.execute_reply": "2022-02-09T16:03:30.668824Z",
     "shell.execute_reply.started": "2022-02-09T15:59:20.196038Z"
    },
    "papermill": {
     "duration": 0.100263,
     "end_time": "2022-02-09T16:03:30.669450",
     "exception": false,
     "start_time": "2022-02-09T16:03:30.569187",
     "status": "completed"
    },
    "tags": []
   },
   "outputs": [],
   "source": [
    "test_ids = test[\"PassengerId\"]"
   ]
  },
  {
   "cell_type": "code",
   "execution_count": 78,
   "id": "9e96d426",
   "metadata": {
    "execution": {
     "iopub.execute_input": "2022-02-09T16:03:30.860157Z",
     "iopub.status.busy": "2022-02-09T16:03:30.859477Z",
     "iopub.status.idle": "2022-02-09T16:03:30.865225Z",
     "shell.execute_reply": "2022-02-09T16:03:30.865714Z",
     "shell.execute_reply.started": "2022-02-09T16:02:46.263298Z"
    },
    "papermill": {
     "duration": 0.103149,
     "end_time": "2022-02-09T16:03:30.865881",
     "exception": false,
     "start_time": "2022-02-09T16:03:30.762732",
     "status": "completed"
    },
    "tags": []
   },
   "outputs": [],
   "source": [
    "submission = pd.DataFrame({\"PassengerId\":test_ids.values,\n",
    "                  \"Survived\":test_preds})\n",
    "\n",
    "submission['PassengerId'] = submission['PassengerId'].astype(int)\n"
   ]
  },
  {
   "cell_type": "code",
   "execution_count": 79,
   "id": "9ae1b01b",
   "metadata": {
    "execution": {
     "iopub.execute_input": "2022-02-09T16:03:31.056093Z",
     "iopub.status.busy": "2022-02-09T16:03:31.055436Z",
     "iopub.status.idle": "2022-02-09T16:03:31.064890Z",
     "shell.execute_reply": "2022-02-09T16:03:31.065389Z",
     "shell.execute_reply.started": "2022-02-09T16:02:47.662830Z"
    },
    "papermill": {
     "duration": 0.106403,
     "end_time": "2022-02-09T16:03:31.065566",
     "exception": false,
     "start_time": "2022-02-09T16:03:30.959163",
     "status": "completed"
    },
    "tags": []
   },
   "outputs": [
    {
     "data": {
      "text/html": [
       "<div>\n",
       "<style scoped>\n",
       "    .dataframe tbody tr th:only-of-type {\n",
       "        vertical-align: middle;\n",
       "    }\n",
       "\n",
       "    .dataframe tbody tr th {\n",
       "        vertical-align: top;\n",
       "    }\n",
       "\n",
       "    .dataframe thead th {\n",
       "        text-align: right;\n",
       "    }\n",
       "</style>\n",
       "<table border=\"1\" class=\"dataframe\">\n",
       "  <thead>\n",
       "    <tr style=\"text-align: right;\">\n",
       "      <th></th>\n",
       "      <th>PassengerId</th>\n",
       "      <th>Survived</th>\n",
       "    </tr>\n",
       "  </thead>\n",
       "  <tbody>\n",
       "    <tr>\n",
       "      <th>0</th>\n",
       "      <td>892</td>\n",
       "      <td>0</td>\n",
       "    </tr>\n",
       "    <tr>\n",
       "      <th>1</th>\n",
       "      <td>893</td>\n",
       "      <td>0</td>\n",
       "    </tr>\n",
       "    <tr>\n",
       "      <th>2</th>\n",
       "      <td>894</td>\n",
       "      <td>1</td>\n",
       "    </tr>\n",
       "    <tr>\n",
       "      <th>3</th>\n",
       "      <td>895</td>\n",
       "      <td>0</td>\n",
       "    </tr>\n",
       "    <tr>\n",
       "      <th>4</th>\n",
       "      <td>896</td>\n",
       "      <td>0</td>\n",
       "    </tr>\n",
       "    <tr>\n",
       "      <th>...</th>\n",
       "      <td>...</td>\n",
       "      <td>...</td>\n",
       "    </tr>\n",
       "    <tr>\n",
       "      <th>413</th>\n",
       "      <td>1305</td>\n",
       "      <td>0</td>\n",
       "    </tr>\n",
       "    <tr>\n",
       "      <th>414</th>\n",
       "      <td>1306</td>\n",
       "      <td>1</td>\n",
       "    </tr>\n",
       "    <tr>\n",
       "      <th>415</th>\n",
       "      <td>1307</td>\n",
       "      <td>1</td>\n",
       "    </tr>\n",
       "    <tr>\n",
       "      <th>416</th>\n",
       "      <td>1308</td>\n",
       "      <td>1</td>\n",
       "    </tr>\n",
       "    <tr>\n",
       "      <th>417</th>\n",
       "      <td>1309</td>\n",
       "      <td>0</td>\n",
       "    </tr>\n",
       "  </tbody>\n",
       "</table>\n",
       "<p>418 rows × 2 columns</p>\n",
       "</div>"
      ],
      "text/plain": [
       "     PassengerId  Survived\n",
       "0            892         0\n",
       "1            893         0\n",
       "2            894         1\n",
       "3            895         0\n",
       "4            896         0\n",
       "..           ...       ...\n",
       "413         1305         0\n",
       "414         1306         1\n",
       "415         1307         1\n",
       "416         1308         1\n",
       "417         1309         0\n",
       "\n",
       "[418 rows x 2 columns]"
      ]
     },
     "execution_count": 79,
     "metadata": {},
     "output_type": "execute_result"
    }
   ],
   "source": [
    "submission"
   ]
  },
  {
   "cell_type": "code",
   "execution_count": 80,
   "id": "9e67496a",
   "metadata": {
    "execution": {
     "iopub.execute_input": "2022-02-09T16:03:31.257365Z",
     "iopub.status.busy": "2022-02-09T16:03:31.256589Z",
     "iopub.status.idle": "2022-02-09T16:03:31.264188Z",
     "shell.execute_reply": "2022-02-09T16:03:31.264777Z",
     "shell.execute_reply.started": "2022-02-09T15:47:06.209836Z"
    },
    "papermill": {
     "duration": 0.104674,
     "end_time": "2022-02-09T16:03:31.264979",
     "exception": false,
     "start_time": "2022-02-09T16:03:31.160305",
     "status": "completed"
    },
    "tags": []
   },
   "outputs": [],
   "source": [
    "submission.to_csv(\"submission.csv\",index = False)"
   ]
  }
 ],
 "metadata": {
  "kernelspec": {
   "display_name": "Python 3",
   "language": "python",
   "name": "python3"
  },
  "language_info": {
   "codemirror_mode": {
    "name": "ipython",
    "version": 3
   },
   "file_extension": ".py",
   "mimetype": "text/x-python",
   "name": "python",
   "nbconvert_exporter": "python",
   "pygments_lexer": "ipython3",
   "version": "3.7.12"
  },
  "papermill": {
   "default_parameters": {},
   "duration": 31.307583,
   "end_time": "2022-02-09T16:03:32.169194",
   "environment_variables": {},
   "exception": null,
   "input_path": "__notebook__.ipynb",
   "output_path": "__notebook__.ipynb",
   "parameters": {},
   "start_time": "2022-02-09T16:03:00.861611",
   "version": "2.3.3"
  }
 },
 "nbformat": 4,
 "nbformat_minor": 5
}
